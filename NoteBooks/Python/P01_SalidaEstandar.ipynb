{
  "cells": [
    {
      "metadata": {
        "slideshow": {
          "slide_type": "slide"
        }
      },
      "cell_type": "markdown",
      "source": "# Salida Estandar\nEl objetivo de este taller es practicar la forma de *enviar* valores a la salida estadar en python (es decir escribir valores con python) [Mas informacion][1] \n\n[1]:https://pythonista.io/cursos/py101/entrada-y-salida-estandar"
    },
    {
      "metadata": {},
      "cell_type": "markdown",
      "source": "\n## Hola Mundo! - python Instruccion `print()` \nHacer un programa que escriba en la pantalla *\"Hola Mundo!\"* es por tradición el primer programa que se escribe cuando se desea aprender un nuevo lenguaje y nosotros no seremos la excepción.  \nLa implementación en Python es la siguiente: \n```python\n# Esta es una ventana de texto aqui no se interpreta la instrucción \nprint(\"Hello World!\")\n```  "
    },
    {
      "metadata": {},
      "cell_type": "markdown",
      "source": "<font size=\"4\" color=\"#00A0B2\"  face=\"verdana\"> <B>Ejemplo</B></font>"
    },
    {
      "metadata": {
        "slideshow": {
          "slide_type": "subslide"
        },
        "trusted": true
      },
      "cell_type": "code",
      "source": "# Esta es una ventana de código aqui se interpreta y ejecuta la instrucción (CTRL-Enter) \nprint(\"Hola\")",
      "execution_count": 1,
      "outputs": [
        {
          "output_type": "stream",
          "text": "Hola\n",
          "name": "stdout"
        }
      ]
    },
    {
      "metadata": {
        "slideshow": {
          "slide_type": "subslide"
        }
      },
      "cell_type": "markdown",
      "source": "# Explicación\n## *\"Hola Mundo!\"* \n\nLos notebooks de jupyter tienen integrado un interprete de Python. y bpor ello es posible ejecutar la instrucción para ver el resultado. \n\n#### Un pequeño ejercicio\n\nVamos a cambiar el mensaje por el siguiente\n```python \n\"Hola Programador!\" \n``` \nEdite el texto en la siguiente celda para hacerlo. \"Click en la celda para editar\". y escriba la instruccipón que imprime el mensaje solicitado \n\n#### Cascarita\nAhora vamos a plrobar lo que  sucede si cambia a mayúscula una de las letras de `print` es decir ;`Print`; o si se quita una comilla o un paréntesis?!\n"
    },
    {
      "metadata": {
        "trusted": false
      },
      "cell_type": "code",
      "source": "# Pruébelo aqui",
      "execution_count": null,
      "outputs": []
    },
    {
      "metadata": {},
      "cell_type": "markdown",
      "source": "## Explicacion de la función `print` \n\nla [sintaxis][1] completa de la función print es la siguiente\n```python\nprint(objetos*, sep=' ', end='\\n')\n```\ndonde \n+ ojetos* es la lista de elementos que se desean imprimir\n+ sep es el separador de los elementos en la lista\n+ end es lo que se imprime como caracter final después de imprimir la lista (\\n es un pasar a la siguiente linea)\n\n### Ejemplos\n[1]:https://es.wikipedia.org/wiki/Lenguaje_de_programación"
    },
    {
      "metadata": {
        "trusted": false
      },
      "cell_type": "code",
      "source": "#impresion de tres cadenas de caracteres\nprint(\"objeto1\",\"objeto2\",\"objeto3\")",
      "execution_count": 5,
      "outputs": [
        {
          "name": "stdout",
          "output_type": "stream",
          "text": "objeto1 objeto2 objeto3\n"
        }
      ]
    },
    {
      "metadata": {},
      "cell_type": "markdown",
      "source": "#### Nota\nPara el interprete de Python, todo lo que este entre los simbolos \" \" son caracteres no les da ninguna interpretación."
    },
    {
      "metadata": {
        "trusted": false
      },
      "cell_type": "code",
      "source": "#impresion de una cadena de caracteres, un numero entero y un numero real. \nprint(\"objeto1\", 8, 13.5)",
      "execution_count": 6,
      "outputs": [
        {
          "name": "stdout",
          "output_type": "stream",
          "text": "objeto1 8 13.5\n"
        }
      ]
    },
    {
      "metadata": {},
      "cell_type": "markdown",
      "source": "### Ejercicio\nque cambios se deben hacer para que la lista anterior se imprima separadas por coma?\n```python\nobjeto1, 8, 13.5\n```\n"
    },
    {
      "metadata": {
        "trusted": false
      },
      "cell_type": "code",
      "source": "#Escriba el código aqui",
      "execution_count": null,
      "outputs": []
    },
    {
      "metadata": {},
      "cell_type": "markdown",
      "source": "### Impresion de Tabuladores \nPython permite imprimir algunos caracteres especiales como por ejemplo la tabulación\n#### Ejemplo\n"
    },
    {
      "metadata": {
        "trusted": false
      },
      "cell_type": "code",
      "source": "#compare estas dos salidas\nprint(\"Hola Mundo\")\nprint(\"Hola\\t Mundo\")",
      "execution_count": 7,
      "outputs": [
        {
          "name": "stdout",
          "output_type": "stream",
          "text": "Hola Mundo\nHola\t Mundo\n"
        }
      ]
    },
    {
      "metadata": {},
      "cell_type": "markdown",
      "source": "## Ejercicios\nEscriba las instrucciones necesarias para que se imprima:\n+ 1\n\n```python\n*****\n****\n**\n*\n```\n+ 2\n```python\n        *\n       ***\n      *****\n     *******\n    *********\n```\n\n"
    },
    {
      "metadata": {
        "trusted": false
      },
      "cell_type": "code",
      "source": "#Programa 1",
      "execution_count": null,
      "outputs": []
    },
    {
      "metadata": {
        "trusted": true
      },
      "cell_type": "code",
      "source": "#Programa 2",
      "execution_count": null,
      "outputs": []
    },
    {
      "metadata": {},
      "cell_type": "markdown",
      "source": "## Dibujando a A2D\""
    },
    {
      "metadata": {
        "trusted": true
      },
      "cell_type": "code",
      "source": "\nprint(\"    _____    \")\nprint(\"   /  () \\   \")\nprint(\" _|_______|_ \")\nprint(\"| | ====  | | \")\nprint(\"|_|   o   |_| \")\nprint(\" ||   o   || \")\nprint(\" ||___ ___|| \")\nprint(\"|~ \\_____/~ | \")\nprint(\"/=\\  /=\\  /=\\ \")\nprint(\"[ ]  [ ]  [ ] \")\n",
      "execution_count": null,
      "outputs": []
    },
    {
      "metadata": {},
      "cell_type": "markdown",
      "source": "## Ejercicio\nBasado en el programa anterior hacer el dibujo de [C3P0][1] y Dark Vender\n\n[1]:https://www.youtube.com/watch?v=h_GSRymSCt8\n"
    }
  ],
  "metadata": {
    "anaconda-cloud": {},
    "kernelspec": {
      "name": "python3",
      "display_name": "Python 3",
      "language": "python"
    },
    "language_info": {
      "mimetype": "text/x-python",
      "nbconvert_exporter": "python",
      "name": "python",
      "pygments_lexer": "ipython3",
      "version": "3.5.4",
      "file_extension": ".py",
      "codemirror_mode": {
        "version": 3,
        "name": "ipython"
      }
    }
  },
  "nbformat": 4,
  "nbformat_minor": 1
}