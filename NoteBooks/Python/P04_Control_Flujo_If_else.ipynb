{
  "cells": [
    {
      "metadata": {
        "collapsed": true
      },
      "cell_type": "markdown",
      "source": "Control de Flujo\n=============================\n_____________________________\nLos [**Algoritmos secuenciales**][1], no siempre son suficientes para resolver todos los posibles problemas que debemos resolver con algoritmos, es muy común que, dependiendo de ciertas condiciones, se ejecuten algunas instrucciones y otras no. Esta característica se conoce comunmente como [**control de flujo del código**][2].\n\nCondicionales if \n-----------------------------------\n\nSintaxis:\n\n    if <condition>:\n        <code block>\n    elif <condition>:\n        <code block>\n    elif <condition>:\n        <code block>\n    else:\n        <code block>\n\nDonde:\n\n+ `<condition>`: representa una expresión lógica que puede ser evaluada como verdadera (`True`) o falsa (`False`).\n+ `<code block>`: representa una secuencia de instrucciones (Bloque de código).\n+ la clausula `elif` y `else` representan condiciones anidadas, son opcionales y se pueden utiizar varios  `elifs` por el `if` inicial pero solo un  `else` que va al final.\n\n[1]:https://es.slideshare.net/SlimsColmenarez/algoritmo-secuenciales\n[2]:https://es.wikipedia.org/wiki/Estructuras_de_control"
    },
    {
      "metadata": {},
      "cell_type": "markdown",
      "source": "<font size=\"6\" color=\"#00A0B2\"  face=\"verdana\"> <B>Ejemplos</B></font>\n\n**Tenga en cuenta que** El objetivo de los siguientes ejemplos y ejercicios es entender el concepto de algoritmos condicionales, por simplicidad no se ponen algoritmos complejos ni se están manejando funciones."
    },
    {
      "metadata": {
        "trusted": true
      },
      "cell_type": "code",
      "source": "if True: \n    print(\"Si es verdadero hago algo\")\nelse:\n    print(\"Si es falso hago otra cosa\")",
      "execution_count": 1,
      "outputs": [
        {
          "output_type": "stream",
          "text": "Si es verdadero hago algo\n",
          "name": "stdout"
        }
      ]
    },
    {
      "metadata": {
        "trusted": false
      },
      "cell_type": "code",
      "source": "cafe_caliente = True\n\nif cafe_caliente:\n    print(\"enjoy some hot coffe!\")\nelse:\n    print(\"enjoy some coffe, and perhaps try hot tea next time.\")",
      "execution_count": null,
      "outputs": []
    },
    {
      "metadata": {
        "trusted": false
      },
      "cell_type": "code",
      "source": "someone_i_know = False\nif someone_i_know:\n    print(\"how have you been?\")\nelse:\n    # use pass si no necesita hacer nada (No recomendado) \n    pass",
      "execution_count": null,
      "outputs": []
    },
    {
      "metadata": {},
      "cell_type": "markdown",
      "source": "<font size=\"6\" color=\"#00A0B2\"  face=\"verdana\"> <B>Concepto</B></font>  \n\n## operadores relacionales \n\nComo el nombre lo indica sirven para hacer operaciones entre valores que dan como resultado verdadero o falso.  Los operadores relacionales en Python son:\n\n - **`>`** Mayor que\n - **`<`** Menor que\n - **`>=`**, **`<=`** Mayor o igual \n - **`==`** Menor o igual\n - Asignación **`=`** vs comparación **`==`**\n - **`!=`**  diferente\n \n [**Mas informacion**][1]\n [1]:http://www.sc.ehu.es/sbweb/fisica/cursoJava/fundamentos/introduccion/operadores1.htm"
    },
    {
      "metadata": {},
      "cell_type": "markdown",
      "source": "<font size=\"6\" color=\"#00A0B2\"  face=\"verdana\"> <B>Ejemplos</B></font> "
    },
    {
      "metadata": {
        "trusted": false
      },
      "cell_type": "code",
      "source": "temp = 23 # Temperatura base para la prueba\n\nif temp < 0:\n    print 'Freezing...'\nelif 0 <= temp <= 20:\n    print 'Cold'\nelif 21 <= temp <= 25:\n    print 'Normal'\nelif 26 <= temp <= 35:\n    print 'Hot'\nelse:\n    print 'Very Hot!'",
      "execution_count": null,
      "outputs": []
    },
    {
      "metadata": {
        "trusted": false
      },
      "cell_type": "code",
      "source": "# analice y ejecute este código\n\"hello\" < \"Hello\"",
      "execution_count": null,
      "outputs": []
    },
    {
      "metadata": {
        "trusted": false
      },
      "cell_type": "code",
      "source": "# analice y ejecute este código\n\"Aardvark\" > \"Zebra",
      "execution_count": null,
      "outputs": []
    },
    {
      "metadata": {
        "trusted": false
      },
      "cell_type": "code",
      "source": "# analice y ejecute este código\nprint(\"'student' >= 'Student' is\", 'student' >= 'Student')\nprint(\"'student' != 'Student' is\", 'student' != 'Student')",
      "execution_count": null,
      "outputs": []
    },
    {
      "metadata": {
        "trusted": false
      },
      "cell_type": "code",
      "source": "# analice y ejecute este código\n\"Hello \" + \"World!\" == \"Hello World!\"",
      "execution_count": null,
      "outputs": []
    },
    {
      "metadata": {},
      "cell_type": "markdown",
      "source": "<font size=\"6\" color=\"#00A0B2\"  face=\"verdana\"> <B>Conceptos</B></font>\n\nSe pueden utilizar los metodos con cadenas en los condicionales\n```python\nif student_name.isalpha():\n```  \n- **`.isalnum()`**\n- **`.istitle()`**\n- **`.isdigit()`**\n- **`.islower()`**\n- **`.startswith()`**"
    },
    {
      "metadata": {},
      "cell_type": "markdown",
      "source": "<font size=\"6\" color=\"#00A0B2\"  face=\"verdana\"> <B>Ejemplos</B></font>"
    },
    {
      "metadata": {
        "trusted": false
      },
      "cell_type": "code",
      "source": "# analice y ejecute el siguiente programa\nfavorite_book = input(\"Enter the title of a favorite book: \")\n\nif favorite_book.istitle():\n    print(favorite_book, \"- nice capitalization in that title!\")\nelse:\n    print(favorite_book, \"- consider capitalization throughout for book titles.\")",
      "execution_count": null,
      "outputs": []
    },
    {
      "metadata": {
        "trusted": false
      },
      "cell_type": "code",
      "source": "# analice y ejecute el siguiente programa\na_number = input(\"enter a positive integer number: \")\n\nif a_number.isdigit():\n    print(a_number, \"is a positive integer\")\nelse:\n    print(a_number, \"is not a positive integer\")\n    \n# another if\nif a_number.isalpha():\n    print(a_number, \"is more like a word\")\nelse:\n    pass",
      "execution_count": null,
      "outputs": []
    },
    {
      "metadata": {
        "trusted": false
      },
      "cell_type": "code",
      "source": "# analice y ejecute el siguiente programa\nvehicle_type = input('\"enter a type of vehicle that starts with \"P\": ')\n\nif vehicle_type.upper().startswith(\"P\"):\n    print(vehicle_type, 'starts with \"P\"')\nelse:\n    print(vehicle_type, 'does not start with \"P\"')",
      "execution_count": null,
      "outputs": []
    },
    {
      "metadata": {},
      "cell_type": "markdown",
      "source": "<font size=\"6\" color=\"#B24C00\"  face=\"verdana\"> <B>Ejercicios</B></font>\n### Dias de la semana\n\nRealizar un programa que lea el nombre de un dia de la semana y retorne su traduccón en Ingles\n\n### Hora Militar\nRealizar un programa que lea una hora en formato militar (solo la hora) y retorne su equivalente en formato am, pm\n\n"
    },
    {
      "metadata": {
        "trusted": false
      },
      "cell_type": "code",
      "source": "#Dias de la semana",
      "execution_count": null,
      "outputs": []
    },
    {
      "metadata": {
        "trusted": false
      },
      "cell_type": "code",
      "source": "#Hora Militar",
      "execution_count": null,
      "outputs": []
    }
  ],
  "metadata": {
    "kernelspec": {
      "name": "python36",
      "display_name": "Python 3.6",
      "language": "python"
    },
    "language_info": {
      "mimetype": "text/x-python",
      "nbconvert_exporter": "python",
      "name": "python",
      "pygments_lexer": "ipython3",
      "version": "3.6.6",
      "file_extension": ".py",
      "codemirror_mode": {
        "version": 3,
        "name": "ipython"
      }
    }
  },
  "nbformat": 4,
  "nbformat_minor": 2
}