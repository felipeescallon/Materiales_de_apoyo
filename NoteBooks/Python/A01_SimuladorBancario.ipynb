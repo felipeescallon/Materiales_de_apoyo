{
 "cells": [
  {
   "cell_type": "markdown",
   "metadata": {},
   "source": [
    "# Caso de Estudio  \n",
    "Este caso de estudio tiene como objetivo la aplicación de la metodología para desarrollo de programas utilizando python como lenguaje de programación, este ejercicio esta basado en los ejercicios propuestos por el protecto Cupi2 de la Universidad de los Andes Tomado de  [Link][1]\n",
    "\n",
    "[1]: https://cupi2.virtual.uniandes.edu.co/"
   ]
  },
  {
   "cell_type": "markdown",
   "metadata": {},
   "source": [
    "# (1) Especificación del Problema\n",
    "## Simulador Bancario\n",
    "Tomado de  [Link][1]\n",
    "\n",
    "Una de las actividades más comunes en el mundo financiero es la realización de simulaciones que permitan a los clientes saber el rendimiento de sus productos a través del tiempo, contemplando diferentes escenarios y posibles situaciones que se presenten.\n",
    "\n",
    "Se quiere crear un programa que haga la simulación en el tiempo de la cuenta bancaria de un cliente. Un cliente tiene un nombre y un número de cédula, el cual identifica la cuenta. Una cuenta, por su parte, está constituida por tres productos financieros básicos: (1) una cuenta de ahorros, (2) una cuenta corriente y (3) un certificado de depósito a término (CDT) Estos productos son independientes y tienen comportamientos particulares.\n",
    "\n",
    "El saldo total de la cuenta es la suma de lo que el cliente tiene en cada uno de dichos\n",
    "productos. En la cuenta corriente, el cliente puede depositar o retirar dinero. Su principal característica es que no recibe ningún interés por el dinero que se encuentre allí depositado. En la cuenta de ahorros, el cliente recibe un interés mensual del 0,6% sobre el saldo. Cuando el cliente abre un CDT, define la cantidad de dinero que quiere invertir y negocia con el banco el interés mensual que va a recibir. A diferencia de la cuenta corriente o la cuenta de ahorros, en un CDT no se puede consignar ni retirar dinero. La única operación posible es cerrarlo, en cuyo caso, el dinero y sus intereses pasan a la cuenta corriente.\n",
    "\n",
    "Se quiere que el programa permita a una persona simular el manejo de sus productos\n",
    "bancarios, dándole las facilidades de: (1) hacer las operaciones necesarias sobre los\n",
    "productos que conforman la cuenta, y (2) avanzar mes por mes en el tiempo, para que el cliente pueda ver el resultado de sus movimientos bancarios y el rendimiento de sus\n",
    "inversiones.\n",
    "\n",
    " [1]: https://cupi2.virtual.uniandes.edu.co/nivel-1/casos/simulador-bancario"
   ]
  },
  {
   "cell_type": "markdown",
   "metadata": {},
   "source": [
    "## (2) Analisis: Lista de Requisitos Funcionales\n",
    "    - R1: Ingresar datos cliente\n",
    "    - R2: Mostrar el saldo de la cuenta corriente del cliente\n",
    "    - R3: Mostrar el saldo de la cuenta de ahorros del cliente\n",
    "    - R4: Mostrar el saldo del CDT del cliente\n",
    "    - R5: Mostrar el saldo total que tiene el cliente en los productos del banco\n",
    "    - R6: Invertir un monto de dinero en un CDT\n",
    "    - R7: Cerrar la inversión en CDT\n",
    "    - R8: Consignar un monto de dinero en la cuenta corriente del cliente\n",
    "    - R9: Retirar un monto de dinero de la cuenta corriente del cliente\n",
    "    - R10: Consignar un monto de dinero en la cuenta de ahorros del cliente\n",
    "    - R11: Retirar un monto de dinero de la cuenta de ahorros del cliente\n",
    "    - R12: Avanzar un mes la simulación bancaria"
   ]
  },
  {
   "cell_type": "markdown",
   "metadata": {},
   "source": [
    "## (3) Analisis: Datos del Problema\n",
    "#### Cliente del Banco\n",
    "    - Documento de Identidad\t\n",
    "    - Nombre\t\n",
    "    - Apellidos\t\n",
    "\n",
    "#### Cuenta Ahorros\t\n",
    "    - Saldo\t\n",
    "    - Interés Mensual\t\n",
    "\n",
    "#### Cuenta Corriente\n",
    "    - Saldo\t\n",
    "\n",
    "\n",
    "#### CDT\n",
    "\n",
    "    - Valor Invertido\t\n",
    "    - Interés Mensual\t\n",
    "    - Mes Apertura\n",
    "\n",
    "#### Banco\n",
    "\n",
    "    - Mes Actual\t\n",
    "\n",
    " \n"
   ]
  },
  {
   "cell_type": "markdown",
   "metadata": {},
   "source": [
    "## (4) Diseño: Estructuras de Datos\n",
    "### Datos Cliente\n",
    "<style>\n",
    ".tg  {border-collapse:collapse;border-spacing:0;border-color:#aaa;}\n",
    ".tg td{font-family:Arial, sans-serif;font-size:14px;padding:10px 5px;border-style:solid;border-width:1px;overflow:hidden;word-break:normal;border-color:#aaa;color:#333;background-color:#fff;}\n",
    ".tg th{font-family:Arial, sans-serif;font-size:14px;font-weight:normal;padding:10px 5px;border-style:solid;border-width:1px;overflow:hidden;word-break:normal;border-color:#aaa;color:#fff;background-color:#f38630;}\n",
    ".tg .tg-5ua9{font-weight:bold;text-align:left}\n",
    ".tg .tg-r3cy{font-weight:bold;font-style:italic;text-align:left}\n",
    ".tg .tg-s268{text-align:left}\n",
    "</style>\n",
    "<table class=\"tg\">\n",
    "  <tbody><tr>\n",
    "    <th class=\"tg-5ua9\">Identificador</th>\n",
    "    <th class=\"tg-5ua9\">Tipo</th>\n",
    "  </tr>\n",
    "  <tr>\n",
    "    <td class=\"tg-r3cy\">cedula</td>\n",
    "    <td class=\"tg-s268\">un numero entero  mayor a cero</td>\n",
    "  </tr>\n",
    "  <tr>\n",
    "    <td class=\"tg-r3cy\">nombre</td>\n",
    "    <td class=\"tg-s268\">una cadena de letras (caracteres) que no este vacía</td>\n",
    "  </tr>\n",
    "  <tr>\n",
    "    <td class=\"tg-r3cy\">apellidos</td>\n",
    "    <td class=\"tg-s268\">una cadena de letras (caracteres) que no este vacía</td>\n",
    "  </tr>\n",
    "</tbody></table>\n"
   ]
  },
  {
   "cell_type": "markdown",
   "metadata": {},
   "source": [
    "### Datos Cuenta de Ahorros\n",
    "<style>\n",
    ".tg  {border-collapse:collapse;border-spacing:0;border-color:#aaa;}\n",
    ".tg td{font-family:Arial, sans-serif;font-size:14px;padding:10px 5px;border-style:solid;border-width:1px;overflow:hidden;word-break:normal;border-color:#aaa;color:#333;background-color:#fff;}\n",
    ".tg th{font-family:Arial, sans-serif;font-size:14px;font-weight:normal;padding:10px 5px;border-style:solid;border-width:1px;overflow:hidden;word-break:normal;border-color:#aaa;color:#fff;background-color:#f38630;}\n",
    ".tg .tg-5ua9{font-weight:bold;text-align:left}\n",
    ".tg .tg-r3cy{font-weight:bold;font-style:italic;text-align:left}\n",
    ".tg .tg-s268{text-align:left}\n",
    "</style>\n",
    "<table class=\"tg\">\n",
    "  <tbody><tr>\n",
    "    <th class=\"tg-5ua9\">Identificador</th>\n",
    "    <th class=\"tg-5ua9\">Tipo</th>\n",
    "  </tr>\n",
    "  <tr>\n",
    "    <td class=\"tg-r3cy\">saldo</td>\n",
    "    <td class=\"tg-s268\">un numero real  mayor a cero</td>\n",
    "  </tr>\n",
    "  <tr>\n",
    "    <td class=\"tg-r3cy\">interés mensual</td>\n",
    "    <td class=\"tg-s268\">Un numero real entre 0 y 100</td>\n",
    "  </tr>\n",
    "  \n",
    "</tbody></table>\n"
   ]
  },
  {
   "cell_type": "markdown",
   "metadata": {},
   "source": [
    "### Datos Cuenta Corriente\n",
    "\n",
    "<style>\n",
    ".tg  {border-collapse:collapse;border-spacing:0;border-color:#aaa;}\n",
    ".tg td{font-family:Arial, sans-serif;font-size:14px;padding:10px 5px;border-style:solid;border-width:1px;overflow:hidden;word-break:normal;border-color:#aaa;color:#333;background-color:#fff;}\n",
    ".tg th{font-family:Arial, sans-serif;font-size:14px;font-weight:normal;padding:10px 5px;border-style:solid;border-width:1px;overflow:hidden;word-break:normal;border-color:#aaa;color:#fff;background-color:#f38630;}\n",
    ".tg .tg-5ua9{font-weight:bold;text-align:left}\n",
    ".tg .tg-r3cy{font-weight:bold;font-style:italic;text-align:left}\n",
    ".tg .tg-s268{text-align:left}\n",
    "</style>\n",
    "<table class=\"tg\">\n",
    "  <tbody><tr>\n",
    "    <th class=\"tg-5ua9\">Identificador</th>\n",
    "    <th class=\"tg-5ua9\">Tipo</th>\n",
    "  </tr>\n",
    "  <tr>\n",
    "    <td class=\"tg-r3cy\">saldo</td>\n",
    "    <td class=\"tg-s268\">un numero real  mayor a cero</td>\n",
    "  </tr>\n",
    "  </tbody></table>\n"
   ]
  },
  {
   "cell_type": "markdown",
   "metadata": {},
   "source": [
    "### Datos CDT\n",
    "\n",
    "<style>\n",
    ".tg  {border-collapse:collapse;border-spacing:0;border-color:#aaa;}\n",
    ".tg td{font-family:Arial, sans-serif;font-size:14px;padding:10px 5px;border-style:solid;border-width:1px;overflow:hidden;word-break:normal;border-color:#aaa;color:#333;background-color:#fff;}\n",
    ".tg th{font-family:Arial, sans-serif;font-size:14px;font-weight:normal;padding:10px 5px;border-style:solid;border-width:1px;overflow:hidden;word-break:normal;border-color:#aaa;color:#fff;background-color:#f38630;}\n",
    ".tg .tg-5ua9{font-weight:bold;text-align:left}\n",
    ".tg .tg-r3cy{font-weight:bold;font-style:italic;text-align:left}\n",
    ".tg .tg-s268{text-align:left}\n",
    "</style>\n",
    "<table class=\"tg\">\n",
    "  <tbody><tr>\n",
    "    <th class=\"tg-5ua9\">Identificador</th>\n",
    "    <th class=\"tg-5ua9\">Tipo</th>\n",
    "  </tr>\n",
    "   <tr>\n",
    "    <td class=\"tg-r3cy\">valor invertido</td>\n",
    "    <td class=\"tg-s268\">un numero real mayor a cero</td>\n",
    "  </tr>\n",
    "  <tr>\n",
    "    <td class=\"tg-r3cy\">interes mensual</td>\n",
    "    <td class=\"tg-s268\">un numero real entre 0 y 100</td>\n",
    "  </tr>\n",
    "  <tr>\n",
    "    <td class=\"tg-r3cy\">mes apertura</td>\n",
    "    <td class=\"tg-s268\">un numero entero entre 1 (enero) y 12 (diciembre)</td>\n",
    "  </tr>\n",
    "</tbody></table>\n"
   ]
  },
  {
   "cell_type": "markdown",
   "metadata": {},
   "source": [
    "### Datos Banco\n",
    "<style>\n",
    ".tg  {border-collapse:collapse;border-spacing:0;border-color:#aaa;}\n",
    ".tg td{font-family:Arial, sans-serif;font-size:14px;padding:10px 5px;border-style:solid;border-width:1px;overflow:hidden;word-break:normal;border-color:#aaa;color:#333;background-color:#fff;}\n",
    ".tg th{font-family:Arial, sans-serif;font-size:14px;font-weight:normal;padding:10px 5px;border-style:solid;border-width:1px;overflow:hidden;word-break:normal;border-color:#aaa;color:#fff;background-color:#f38630;}\n",
    ".tg .tg-5ua9{font-weight:bold;text-align:left}\n",
    ".tg .tg-r3cy{font-weight:bold;font-style:italic;text-align:left}\n",
    ".tg .tg-s268{text-align:left}\n",
    "</style>\n",
    "<table class=\"tg\">\n",
    "  <tbody><tr>\n",
    "    <th class=\"tg-5ua9\">Identificador</th>\n",
    "    <th class=\"tg-5ua9\">Tipo</th>\n",
    "  </tr>\n",
    "  <tr>\n",
    "    <td class=\"tg-r3cy\">mes actual</td>\n",
    "    <td class=\"tg-s268\">un numero entero entre 1 (enero) y 12 (diciembre)</td>\n",
    "  </tr>\n",
    "  </tbody></table>"
   ]
  },
  {
   "cell_type": "markdown",
   "metadata": {},
   "source": [
    "## (5) Implementación: Estructuras de Datos\n"
   ]
  },
  {
   "cell_type": "code",
   "execution_count": 8,
   "metadata": {},
   "outputs": [
    {
     "data": {
      "text/plain": [
       "{'cedula': 0, 'nombre': 'Claudia', 'apellidos': ''}"
      ]
     },
     "execution_count": 8,
     "metadata": {},
     "output_type": "execute_result"
    }
   ],
   "source": [
    "cliente={\"cedula\":0,\"nombre\":\"Claudia\",\"apellidos\":\"\"}  #Instruccion 1  \n",
    "cliente                                                 #Instruccion 2 "
   ]
  },
  {
   "cell_type": "markdown",
   "metadata": {},
   "source": [
    "### Estructutra de Datos para la Cuenta Corriente"
   ]
  },
  {
   "cell_type": "code",
   "execution_count": 10,
   "metadata": {},
   "outputs": [
    {
     "data": {
      "text/plain": [
       "0.0"
      ]
     },
     "execution_count": 10,
     "metadata": {},
     "output_type": "execute_result"
    }
   ],
   "source": [
    "saldo_cuenta_corriente=0.0   # Es una variable simple de tipo real, se le da un identificador(nombre) y un valor (0.0)\n",
    "saldo_cuenta_corriente"
   ]
  },
  {
   "cell_type": "markdown",
   "metadata": {},
   "source": [
    "## Estructura de Datos para la Cuenta Ahorros"
   ]
  },
  {
   "cell_type": "code",
   "execution_count": null,
   "metadata": {},
   "outputs": [],
   "source": [
    "cuenta_ahorro={\"saldo\":0.0,\"interes\":0.0}\n",
    "cuenta_ahorro"
   ]
  },
  {
   "cell_type": "markdown",
   "metadata": {},
   "source": [
    "## Estructura de Datos para el CDT"
   ]
  },
  {
   "cell_type": "code",
   "execution_count": null,
   "metadata": {},
   "outputs": [],
   "source": []
  },
  {
   "cell_type": "markdown",
   "metadata": {},
   "source": [
    "## (3) Analisis: Especificacion Requisitos\n",
    "\n",
    "<style>\n",
    ".tg  {border-collapse:collapse;border-spacing:0;border-color:#aaa;}\n",
    ".tg td{font-family:Arial, sans-serif;font-size:14px;padding:10px 5px;border-style:solid;border-width:1px;overflow:hidden;word-break:normal;border-color:#aaa;color:#333;background-color:#fff;}\n",
    ".tg th{font-family:Arial, sans-serif;font-size:14px;font-weight:normal;padding:10px 5px;border-style:solid;border-width:1px;overflow:hidden;word-break:normal;border-color:#aaa;color:#fff;background-color:#f38630;}\n",
    ".tg .tg-1wig{font-weight:bold;text-align:left;vertical-align:top}\n",
    ".tg .tg-gcmg{font-weight:bold;background-color:#f8a102;text-align:left}\n",
    ".tg .tg-4qtd{font-weight:bold;background-color:#f8a102;text-align:left;vertical-align:top}\n",
    ".tg .tg-0lax{text-align:left;vertical-align:top}\n",
    "</style>\n",
    "<table class=\"tg\">\n",
    "  <tbody><tr>\n",
    "    <th class=\"tg-gcmg\">Nombre</th>\n",
    "    <th class=\"tg-4qtd\">R1: Ingresar datos Cliente</th>\n",
    "  </tr>\n",
    "  <tr>\n",
    "    <td class=\"tg-1wig\">Resumen</td>\n",
    "    <td class=\"tg-0lax\">Ingresa el nombre, apellidos y documento de identidad del único cliente<br>del banco</td>\n",
    "  </tr>\n",
    "  <tr>\n",
    "    <td class=\"tg-1wig\">Entradas</td>\n",
    "    <td class=\"tg-0lax\">Nombre, apellidos y documento del cliente</td>\n",
    "  </tr>\n",
    "  <tr>\n",
    "    <td class=\"tg-1wig\">Resultado</td>\n",
    "    <td class=\"tg-0lax\">Se registran los datos del cliente en el sistema</td>\n",
    "  </tr>\n",
    "  <tr>\n",
    "    <td class=\"tg-1wig\">Restricciones</td>\n",
    "    <td class=\"tg-0lax\">El nombre, apellidos y documento no pueden estar en blanco</td>\n",
    "  </tr>\n",
    "</tbody></table>"
   ]
  },
  {
   "cell_type": "markdown",
   "metadata": {},
   "source": [
    "### (4) Diseño: Modulo (EPDS)\n",
    "<img src=\"imgs/ModuloSimuladorR1.png\">"
   ]
  },
  {
   "cell_type": "markdown",
   "metadata": {},
   "source": [
    "### (4) Diseño : Algoritmo\n",
    "#### ID:R1: Ingresar datos Cliente\n",
    "** Inicio **\n",
    "- guardar nombre\n",
    "- guardar apellidos\n",
    "- guardar cedula\n",
    "\n",
    "** Fin **\n",
    "\n"
   ]
  }
 ],
 "metadata": {
  "kernelspec": {
   "display_name": "Python 3.6",
   "language": "python",
   "name": "python36"
  },
  "language_info": {
   "codemirror_mode": {
    "name": "ipython",
    "version": 3
   },
   "file_extension": ".py",
   "mimetype": "text/x-python",
   "name": "python",
   "nbconvert_exporter": "python",
   "pygments_lexer": "ipython3",
   "version": "3.6.6"
  }
 },
 "nbformat": 4,
 "nbformat_minor": 2
}
