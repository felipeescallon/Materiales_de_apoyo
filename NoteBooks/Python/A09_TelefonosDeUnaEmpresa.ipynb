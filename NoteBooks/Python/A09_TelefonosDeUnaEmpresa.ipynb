{
 "cells": [
  {
   "cell_type": "markdown",
   "metadata": {
    "collapsed": true
   },
   "source": [
    "# Examen: \n",
    "Dado el siguiente planteamiento ustedes deben:\n",
    "    - Listar los requisitos funcionales\n",
    "    - Especificar detalladamente los requisitos en las tablas correspondientes \n",
    "    - Identificar los datos del problema\n",
    "    - Diseñar los datos en las tablas respectivas\n",
    "    - Implementar en Python las estructuras de Datos\n",
    "    \n",
    "## Caso de Estudio Telefonos de una Empresa\n",
    "\n",
    "Se quiere crear una aplicación para controlar los gastos telefónicos de una empresa. La empresa cuenta con tres líneas telefónicas a través de las cuales se pueden realizar llamadas locales, de larga distancia y a celulares.\n",
    "\n",
    "La empresa cuenta con planes telefónicos que establecen las siguientes tarifas:\n",
    "    - Minuto Llamada Local: $15 \n",
    "    - Minuto Llamada Larga Distancia: $50\n",
    "    - Minuto Llamada Celular: $99 \n",
    "    \n",
    " \n",
    "### El programa debe permitir:\n",
    "\n",
    "1. Agregar llamadas a cada una de las líneas telefónicas de la empresa.\n",
    "2. Mostrar la información de cada línea telefonica. Esta información incluye el numero de la linea telefonica, el número total de llamadas realizadas, la duración total de las llamadas en minutos y el costo total de las llamadas en pesos.\n",
    "3. Mostrar la información consolidada de la emptresa relacionada con sus líneas telefónicas. Esta información incluye el costo total en pesos de las tres líneas, el número total de llamadas realizadas, la duración total de llamadas en minutos y el cálculo del costo promedio por minuto según el costo total y el total de minutos.\n"
   ]
  },
  {
   "cell_type": "markdown",
   "metadata": {},
   "source": [
    "## Lista de requisitos funcionales\n",
    "    - R1\n",
    "    - R2\n",
    "    "
   ]
  },
  {
   "cell_type": "markdown",
   "metadata": {},
   "source": [
    "##  Datos del problema\n"
   ]
  },
  {
   "cell_type": "markdown",
   "metadata": {},
   "source": [
    "## Diseño Estructura de Datos\n",
    "### Datos xxxxx\n",
    "<style>\n",
    ".tg  {border-collapse:collapse;border-spacing:0;border-color:#aaa;}\n",
    ".tg td{font-family:Arial, sans-serif;font-size:14px;padding:10px 5px;border-style:solid;border-width:1px;overflow:hidden;word-break:normal;border-color:#aaa;color:#333;background-color:#fff;}\n",
    ".tg th{font-family:Arial, sans-serif;font-size:14px;font-weight:normal;padding:10px 5px;border-style:solid;border-width:1px;overflow:hidden;word-break:normal;border-color:#aaa;color:#fff;background-color:#f38630;}\n",
    ".tg .tg-5ua9{font-weight:bold;text-align:left}\n",
    ".tg .tg-r3cy{font-weight:bold;font-style:italic;text-align:left}\n",
    ".tg .tg-s268{text-align:left}\n",
    "</style>\n",
    "<table class=\"tg\">\n",
    "  <tbody><tr>\n",
    "    <th class=\"tg-5ua9\">Identificador</th>\n",
    "    <th class=\"tg-5ua9\">Tipo</th>\n",
    "  </tr>\n",
    "  <tr>\n",
    "    <td class=\"tg-r3cy\"></td>\n",
    "    <td class=\"tg-s268\"></td>\n",
    "  </tr>\n",
    "  <tr>\n",
    "    <td class=\"tg-r3cy\"></td>\n",
    "    <td class=\"tg-s268\"></td>\n",
    "  </tr>\n",
    "  <tr>\n",
    "    <td class=\"tg-r3cy\"></td>\n",
    "    <td class=\"tg-s268\"></td>\n",
    "  </tr>\n",
    "</tbody></table>\n"
   ]
  },
  {
   "cell_type": "markdown",
   "metadata": {},
   "source": [
    "## Implementación Estructura de Datos en Python"
   ]
  },
  {
   "cell_type": "code",
   "execution_count": 1,
   "metadata": {},
   "outputs": [],
   "source": [
    "#Estructura de datos 1"
   ]
  },
  {
   "cell_type": "code",
   "execution_count": 2,
   "metadata": {},
   "outputs": [],
   "source": [
    "#Estructura de datos 2"
   ]
  }
 ],
 "metadata": {
  "kernelspec": {
   "display_name": "Python 3.6",
   "language": "python",
   "name": "python36"
  },
  "language_info": {
   "codemirror_mode": {
    "name": "ipython",
    "version": 3
   },
   "file_extension": ".py",
   "mimetype": "text/x-python",
   "name": "python",
   "nbconvert_exporter": "python",
   "pygments_lexer": "ipython3",
   "version": "3.6.6"
  }
 },
 "nbformat": 4,
 "nbformat_minor": 2
}
