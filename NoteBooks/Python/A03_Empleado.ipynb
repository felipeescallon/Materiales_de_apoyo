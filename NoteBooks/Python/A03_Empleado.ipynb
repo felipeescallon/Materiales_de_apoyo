{
  "cells": [
    {
      "metadata": {
        "collapsed": true
      },
      "cell_type": "markdown",
      "source": "# Caso de Estudio  \nEste caso de estudio tiene como objetivo la aplicación de la metodología para desarrollo de programas utilizando python como lenguaje de programación, este ejercicio esta basado en los ejercicios propuestos por el protecto Cupi2 de la Universidad de los Andes Tomado de  [Link][1]\n\n[1]: https://cupi2.virtual.uniandes.edu.co/"
    },
    {
      "metadata": {},
      "cell_type": "markdown",
      "source": "# (1) Especificación del Problema\n## El Empleado\nTomado de [link][1]\n\n[1]:https://cupi2.virtual.uniandes.edu.co/nivel-1/casos/empleado\n\nSe quiere una aplicación que permita manejar la información de un empleado.\n\nDel empleado se maneja la siguiente información:\n    - Nombre\n    - Apellido\n    - Género (femenino o masculino).\n    - Fecha de nacimiento.\n    - Fecha de ingreso a la empresa\n    - Salario básico.\n"
    },
    {
      "metadata": {},
      "cell_type": "markdown",
      "source": "## (2) Analisis: Lista de Requisitos Funcionales\n\n    - R1. Modificar el salario del empleado.\n    - R2. Calcular la edad del empleado.\n    - R3. Calcular la antigüedad del empleado en la empresa. \n    - R4. Calcular las prestaciones del empleado. (prestaciones=  (antiguedad*salario)/12)\n    - R5. Visualizar la información del empleado.\n"
    }
  ],
  "metadata": {
    "kernelspec": {
      "name": "python36",
      "display_name": "Python 3.6",
      "language": "python"
    },
    "language_info": {
      "mimetype": "text/x-python",
      "nbconvert_exporter": "python",
      "name": "python",
      "pygments_lexer": "ipython3",
      "version": "3.6.6",
      "file_extension": ".py",
      "codemirror_mode": {
        "version": 3,
        "name": "ipython"
      }
    }
  },
  "nbformat": 4,
  "nbformat_minor": 2
}