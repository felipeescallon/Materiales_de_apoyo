{
  "cells": [
    {
      "metadata": {
        "collapsed": true
      },
      "cell_type": "markdown",
      "source": "# Planteamiento del Problema\n\nExpoferias Manizales quiere una aplicación para el manejo de los stands para una feria empresarial. La feria cuenta con 50 stands de exposición en donde las empresas expositoras muestran sus productos a las empresas visitantes. Cada stand tiene restricciones de número mínimo y máximo de personas que pueden exponer.\n\n# Estructura de Datos\nA continuación se define la estructuta de datos que se ha implementado para modelar este problema,  una función que crea los 50 stands con datos aleatorios y otra quhe los lista."
    },
    {
      "metadata": {
        "trusted": true
      },
      "cell_type": "code",
      "source": "import random\nferia_empresarial=[]  # es una lista\nstand={\"id\":0,\"min\":0,\"max\":0,\"ocupado\":False}\ndef crear_50_stands():\n    for i in range (0,50):\n        stand={}\n        stand[\"id\"]=i+1\n        stand[\"min\"]= random.randint(1, 5)\n        stand[\"max\"]= random.randint(6, 20)\n        stand[\"ocupado\"]=False\n        feria_empresarial.append(stand)\n        \ndef listar_stands():\n    for s in feria_empresarial:\n        print(s)\n\ncrear_50_stands()\nlistar_stands()",
      "execution_count": 10,
      "outputs": [
        {
          "output_type": "stream",
          "text": "{'id': 1, 'min': 5, 'max': 15, 'ocupado': False}\n{'id': 2, 'min': 1, 'max': 18, 'ocupado': False}\n{'id': 3, 'min': 3, 'max': 20, 'ocupado': False}\n{'id': 4, 'min': 2, 'max': 16, 'ocupado': False}\n{'id': 5, 'min': 1, 'max': 6, 'ocupado': False}\n{'id': 6, 'min': 3, 'max': 18, 'ocupado': False}\n{'id': 7, 'min': 1, 'max': 10, 'ocupado': False}\n{'id': 8, 'min': 5, 'max': 17, 'ocupado': False}\n{'id': 9, 'min': 5, 'max': 15, 'ocupado': False}\n{'id': 10, 'min': 3, 'max': 18, 'ocupado': False}\n{'id': 11, 'min': 5, 'max': 8, 'ocupado': False}\n{'id': 12, 'min': 3, 'max': 14, 'ocupado': False}\n{'id': 13, 'min': 2, 'max': 6, 'ocupado': False}\n{'id': 14, 'min': 3, 'max': 13, 'ocupado': False}\n{'id': 15, 'min': 1, 'max': 12, 'ocupado': False}\n{'id': 16, 'min': 4, 'max': 13, 'ocupado': False}\n{'id': 17, 'min': 5, 'max': 10, 'ocupado': False}\n{'id': 18, 'min': 2, 'max': 19, 'ocupado': False}\n{'id': 19, 'min': 2, 'max': 15, 'ocupado': False}\n{'id': 20, 'min': 5, 'max': 17, 'ocupado': False}\n{'id': 21, 'min': 1, 'max': 13, 'ocupado': False}\n{'id': 22, 'min': 1, 'max': 17, 'ocupado': False}\n{'id': 23, 'min': 2, 'max': 13, 'ocupado': False}\n{'id': 24, 'min': 1, 'max': 14, 'ocupado': False}\n{'id': 25, 'min': 2, 'max': 20, 'ocupado': False}\n{'id': 26, 'min': 2, 'max': 13, 'ocupado': False}\n{'id': 27, 'min': 5, 'max': 6, 'ocupado': False}\n{'id': 28, 'min': 2, 'max': 7, 'ocupado': False}\n{'id': 29, 'min': 4, 'max': 16, 'ocupado': False}\n{'id': 30, 'min': 4, 'max': 8, 'ocupado': False}\n{'id': 31, 'min': 2, 'max': 18, 'ocupado': False}\n{'id': 32, 'min': 1, 'max': 10, 'ocupado': False}\n{'id': 33, 'min': 4, 'max': 18, 'ocupado': False}\n{'id': 34, 'min': 2, 'max': 8, 'ocupado': False}\n{'id': 35, 'min': 5, 'max': 10, 'ocupado': False}\n{'id': 36, 'min': 4, 'max': 20, 'ocupado': False}\n{'id': 37, 'min': 5, 'max': 14, 'ocupado': False}\n{'id': 38, 'min': 1, 'max': 18, 'ocupado': False}\n{'id': 39, 'min': 2, 'max': 17, 'ocupado': False}\n{'id': 40, 'min': 1, 'max': 16, 'ocupado': False}\n{'id': 41, 'min': 5, 'max': 14, 'ocupado': False}\n{'id': 42, 'min': 1, 'max': 6, 'ocupado': False}\n{'id': 43, 'min': 1, 'max': 8, 'ocupado': False}\n{'id': 44, 'min': 2, 'max': 15, 'ocupado': False}\n{'id': 45, 'min': 3, 'max': 15, 'ocupado': False}\n{'id': 46, 'min': 2, 'max': 10, 'ocupado': False}\n{'id': 47, 'min': 4, 'max': 10, 'ocupado': False}\n{'id': 48, 'min': 1, 'max': 17, 'ocupado': False}\n{'id': 49, 'min': 5, 'max': 16, 'ocupado': False}\n{'id': 50, 'min': 1, 'max': 13, 'ocupado': False}\n",
          "name": "stdout"
        }
      ]
    },
    {
      "metadata": {},
      "cell_type": "markdown",
      "source": "# Requisitos Funcionales\nUna empresa expositora debe ingresar su nombre y el número de personas que asistirán a la feria como expositores de dicha empresa:\nImplemente las funciones para: \n\n1. Ingresar una empresa expositora, y retornar el numero de stand que le corresponde de acuerdo al numero de expositores (1.5)\n2. Calcular el stand que permite un mayor rango de personas (1)\n3. Mostrar el porcentaje de ocupación de la feria (1)\n4. Capacidad máxima de personas de la feria (1)\n5. Desocupar un stand dado su identificador (0.5)\n \n"
    },
    {
      "metadata": {
        "trusted": true
      },
      "cell_type": "code",
      "source": "",
      "execution_count": null,
      "outputs": []
    },
    {
      "metadata": {
        "trusted": true
      },
      "cell_type": "code",
      "source": "",
      "execution_count": null,
      "outputs": []
    }
  ],
  "metadata": {
    "kernelspec": {
      "name": "python36",
      "display_name": "Python 3.6",
      "language": "python"
    },
    "language_info": {
      "mimetype": "text/x-python",
      "nbconvert_exporter": "python",
      "name": "python",
      "pygments_lexer": "ipython3",
      "version": "3.6.6",
      "file_extension": ".py",
      "codemirror_mode": {
        "version": 3,
        "name": "ipython"
      }
    }
  },
  "nbformat": 4,
  "nbformat_minor": 2
}