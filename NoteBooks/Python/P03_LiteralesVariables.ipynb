{
  "cells": [
    {
      "metadata": {
        "collapsed": true
      },
      "cell_type": "markdown",
      "source": "# Valores literales y variables\n\nEl objetivo de este taller es entender el manejo de datos en Python. Existen dos tipos de datos los [literales][1] y las [variables][2]\n\n+ ### Literales: Hacen referencia a valores ```explicitos``` como números, letras o cadenas de caracteres. \n\n```python \n# Escritura de literales\n# print(\"Hola Mundo\")\nprint(123)\nprint('a')\nprint(123.4)\n\n```\n\n+ ### Variables: son un lugar en la memoria del computador que tiene un identificador único y en el cual se pueden almacenar y recuperar datos.\nlas variables se definen (se les da nombre, valor y su tipo) en el momento que se almacena el primer valor en ellas.\n\n### Las variables almacenan información.\nCuando se estamos programando, necesitaremos almacenar información acerca de elementos que se usan en el programa, por ejemplo: precio_producto, nombre_estudiante. En python una variable debe ser referenciada por un identificador yu en ella hay un valor.\n\n```python \nx=13 # el identificador es x, su tipo es entero y su valor es 13\ny=\"Hola mundo\" # el identificador esy, su tipo es cadena de caracteres y su valor es \"hola mundo\"\nz='c' # el identificador es z, su tipo es caracter y su valor es 'c'\nx=13.2 # el identificador es x, su tipo se redefine a real y su valor es 13.2\n```\n\n*** Nota *** Es recomendable utilizar nombres descriptivos para las variables.\n\n**asignación**:\n>**`mensaje_actual = \"Yo soy programador\" `**  \n  \nen la variable &nbsp; **`mensaje_actual`**, &nbsp; a quedado almacenado el valor &nbsp;(**`\"Yo soy un programador\"`**) &nbsp;\n\n\n[1]:http://profesores.fi-b.unam.mx/carlos/java/java_basico2_4.html\n[2]:https://realpython.com/python-variables/"
    },
    {
      "metadata": {
        "trusted": true
      },
      "cell_type": "code",
      "source": "x=13  #define la variable x con el valor 13 de tipo entero\nprint(x) #imprime el valor almacenado en x\ny=\"Hola mundo\"\nprint(y)\nz='c'\nprint(z)\nx=13.2  #cambia el valor y el tipo de datos almacenado en x\nprint(x)\n\n",
      "execution_count": null,
      "outputs": []
    },
    {
      "metadata": {},
      "cell_type": "markdown",
      "source": "# Ejercicio\nEn el primer párrafo hay un link donde explican en detalle el cponcepto y manejo de las variables en Python. En su proyecto de Notebooks cree una nueva carpeta y adicione un notebooks donde en español y de manera resumida explique los conceptos alli definidos y haga los programas que alli se desarrollan "
    }
  ],
  "metadata": {
    "kernelspec": {
      "name": "python36",
      "display_name": "Python 3.6",
      "language": "python"
    },
    "language_info": {
      "mimetype": "text/x-python",
      "nbconvert_exporter": "python",
      "name": "python",
      "pygments_lexer": "ipython3",
      "version": "3.6.6",
      "file_extension": ".py",
      "codemirror_mode": {
        "version": 3,
        "name": "ipython"
      }
    }
  },
  "nbformat": 4,
  "nbformat_minor": 2
}