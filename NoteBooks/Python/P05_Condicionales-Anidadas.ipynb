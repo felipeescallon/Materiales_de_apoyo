{
 "cells": [
  {
   "cell_type": "markdown",
   "metadata": {
    "collapsed": true
   },
   "source": [
    "# Condicionales Anidadas\n",
    "\n",
    "Cuando en un algoritmo se deben tomar decisiones puede pasar:\n",
    "    - Que si la condicion evaluada es verdadera se realice un conjunto de instrucciones\n",
    "```python\n",
    "\n",
    "if a &gt; b:\n",
    "    #Grupo de instrucciones en caso de que la expresion lógica sea verdadera\n",
    "```  \n",
    "    - Que si la condicion es verdadera se realice un conjunto de instrucciones y si es falsa otro conjunto de instrucciones diferente\n",
    "    \n",
    "```python\n",
    "\n",
    "if a &gt; b:\n",
    "    #Grupo de instrucciones en caso de que la expresion lógica sea verdadera\n",
    "else:\n",
    "    #Grupo de instrucciones en caso de que la expresion lógica sea falsa\n",
    "```\n",
    "    - Que si la condicion es verdadera se realice un conjunto de instrucciones y si es falsa se deba evaluar otra condición.\n",
    "\n",
    "\n",
    " \n",
    "\n",
    "```python\n",
    "\n",
    "if a &gt; b:\n",
    "    #Grupo de instrucciones en caso de que la expresion lógica sea verdadera\n",
    "else:\n",
    "    if a &lt; b:\n",
    "        #Grupo de instrucciones en caso de que la expresion lógica sea verdadera\n",
    "    else:\n",
    "        if a==b:\n",
    "            #Grupo de instrucciones en caso de que la expresion lógica sea verdadera        \n",
    "```\n",
    "\n",
    "\n",
    " ![Imagen del flujo](https://cdn.exceltotal.com/0102/funcion-si-anidada-03.png)\n",
    " \n",
    "\n",
    "\n",
    "### [Flujo de control Condicional Anidada][1]\n",
    "\n",
    "La imagen muestra el flujo de control de la función **if anidada**. Si la evaluacioón de la `expresión logica 1` es verdadera realiza la `Accion 1` y termina el flujo. Si es evaluada falsa va a la condición anidada para evaluar la  `expresión lógica 2`.  \n",
    "\n",
    "[1]:https://www.youtube.com/watch?v=6wO8Tezbj9k"
   ]
  },
  {
   "cell_type": "markdown",
   "metadata": {},
   "source": [
    "<font> <b>Ejemplos</b></font>"
   ]
  },
  {
   "cell_type": "code",
   "execution_count": 3,
   "metadata": {},
   "outputs": [
    {
     "name": "stdout",
     "output_type": "stream",
     "text": [
      "\"v\" si es vegetariano \"c\" si es carniboro: c\n",
      "\"m\" pára medio término or \"p\" para en su punto: p\n",
      "Aqui está su carne asada en su punto\n"
     ]
    }
   ],
   "source": [
    "# Ejemplo Básico\n",
    "# [ ] analice el programa y corralo conm varios ejemplos (1 por cada opcion posible)\n",
    "\n",
    "print(\"Hola, Bienvenido a su restaurante VegeCarnes.\")\n",
    "tipo_persona = input('\"v\" si es vegetariano \"c\" si es carniboro: ')\n",
    "\n",
    "if tipo_persona.lower() == \"c\": #¿Entiende porque se usa la funcion lower()?\n",
    "    # seleccionar punto de la carne\n",
    "    punto_carne = input('\"m\" pára medio término or \"p\" para en su punto: ')\n",
    "    \n",
    "    if punto_carne.lower() == \"m\":\n",
    "        print(\"Aqui está su carne asada a termino medio\")\n",
    "    else:\n",
    "        print(\"Aqui está su carne asada en su punto\") \n",
    "\n",
    "else:\n",
    "    print(\"Disfrute su ensalada\")"
   ]
  },
  {
   "cell_type": "markdown",
   "metadata": {},
   "source": [
    "<font> <b>Ejercicio</b></font>\n",
    "\n",
    "- ¿Que sucede si en el programa anterior el usuario digita la leytrta `'z'`?. - \n",
    "- ¿Porque sucede esto? \n",
    "- En la siguente celda, escriba un programa en donde corrija el error, además que en caso de que el usuario no digite las letras `'v' o 'c'` presente el mensaje \"Lo sentimos, solo atendemos carnivoros o vegetarianos\"  \n",
    "\n"
   ]
  },
  {
   "cell_type": "code",
   "execution_count": null,
   "metadata": {},
   "outputs": [],
   "source": [
    "#Escriba el programa aqui"
   ]
  },
  {
   "cell_type": "markdown",
   "metadata": {},
   "source": [
    "<font> <b>Ejercicio</b></font>\n",
    "\n",
    "Escriba un programa para el flujo que se presenta en la imagen que corresponde a adivinar el mes de nacimiento con maximo tres intentos.\n",
    "\n",
    "| ![Image of Guess the Bird flowchart](https://iajupyterprodblobs.blob.core.windows.net/imagecontainer/flowchart_guess_the_bird.png) "
   ]
  },
  {
   "cell_type": "code",
   "execution_count": null,
   "metadata": {},
   "outputs": [],
   "source": [
    "#Escriba el programa aqui"
   ]
  },
  {
   "cell_type": "markdown",
   "metadata": {},
   "source": [
    "<font> <b>Ejercicio</b></font>\n",
    "\n",
    "Una compañia de telefonía celular desea un programa en Python que le permita conocer el valor que debe pagar un usuario, la información que nos dan es la siguiente:\n",
    "    - Se tienen dos tipos de usuarios: *Personal* identificado por la letra P y *Corporativo* identificado por la letra C\n",
    "    - El cargo básico para los usuarios tipo P es de $40.000\n",
    "    - El cargo básico para los usuarios tipo C es de $30.000\n",
    "    - Para los usuarios tipo P:\n",
    "        - Si su consumo de datos esta entre 1MB y 500MB se cobran $30.000 adicionales\n",
    "        - Si su consumo de datos esta entre 501MB y 1500MB se cobran $40.000 adicionales\n",
    "        - Si su consumo de datos esta entre 1501MB y 3000MB se cobran $50.000 adicionales\n",
    "        - Si su consumo de datos es mayor a 3000MB se cobran $100.000 por todo el plan y no se cobra cargo básico\n",
    "    - Para los usuarios tipo C:\n",
    "        - Si su consumo de datos esta entre 1MB y 500MB se cobran $20.000 adicionales\n",
    "        - Si su consumo de datos esta entre 501MB y 1500MB se cobran $30.000 adicionales\n",
    "        - Si su consumo de datos esta entre 1501MB y 3000MB se cobran $40.000 adicionales\n",
    "        - Si su consumo de datos es mayor a 3000MB se cobran $80.000 por todo el plan y no se cobra cargo básico\n",
    "      \n",
    " El usuario del programa debe entrar desde teclado el numero de MB consumidos y el tipo de usuario y el programa debe mostrar el total a pagar. \n",
    "\n",
    "    \n"
   ]
  },
  {
   "cell_type": "code",
   "execution_count": null,
   "metadata": {},
   "outputs": [],
   "source": [
    "#Escriba el programa aqui"
   ]
  }
 ],
 "metadata": {
  "kernelspec": {
   "display_name": "Python 3.6",
   "language": "python",
   "name": "python36"
  },
  "language_info": {
   "codemirror_mode": {
    "name": "ipython",
    "version": 3
   },
   "file_extension": ".py",
   "mimetype": "text/x-python",
   "name": "python",
   "nbconvert_exporter": "python",
   "pygments_lexer": "ipython3",
   "version": "3.6.6"
  }
 },
 "nbformat": 4,
 "nbformat_minor": 2
}
