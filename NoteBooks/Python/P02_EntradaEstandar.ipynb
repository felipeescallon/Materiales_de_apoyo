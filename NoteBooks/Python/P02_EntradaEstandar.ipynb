{
  "cells": [
    {
      "metadata": {
        "collapsed": true
      },
      "cell_type": "markdown",
      "source": "# Entrada Estàndar\nPara que un programa sea realmente útil, debe permitir el ingreso de datos por parte de los usuarios del mismo. Generalmente, para los programas que estamos haciendo esta entrada se hace por la llamada [Entrada Estandar][1] que por lo general es el teclado.\n\n\n[1]:https://es.wikipedia.org/wiki/Entrada_estándar"
    },
    {
      "metadata": {
        "collapsed": true
      },
      "cell_type": "markdown",
      "source": "  \n<font size=\"6\" color=\"#00A0B2\"  face=\"verdana\"> <B>Funcion input</B></font> \n\n## input()  \n \nla función **`input()`** es la que se utiliza en Python para ingresar datos por la entrada estandar.\nLOs datos que son digitados son siempre retornados en una cadena de caracteres (ASI SE DIGITEN NUMEROS).\n"
    },
    {
      "metadata": {},
      "cell_type": "markdown",
      "source": "<font size=\"6\" color=\"#00A0B2\"  face=\"verdana\"> <B>Ejemplos</B></font>  "
    },
    {
      "metadata": {
        "trusted": false
      },
      "cell_type": "code",
      "source": "# analice y ejecute el siguiente código. Ingrese un numero entero\nprint(\"Ingrese un numero entero: \")\nsmall_int = input() #el valor digitado queda almacenado en la variable small_int\nprint(\"El numero ingresado fue: \")\nprint(small_int)",
      "execution_count": 3,
      "outputs": [
        {
          "name": "stdout",
          "output_type": "stream",
          "text": "Ingrese un numero entero: \n10\nEl numero ingresado fue: \n10\n"
        }
      ]
    },
    {
      "metadata": {},
      "cell_type": "markdown",
      "source": "<font size=\"6\" color=\"#B24C00\"  face=\"verdana\"> <B>Ejercicio 1</B></font>\n\n- Haga un programa que lea el nombre y los dos apellidos de una persona (de manera independiente) de un estudiante y luego los imprima "
    },
    {
      "metadata": {
        "trusted": false
      },
      "cell_type": "code",
      "source": "#escriba el código aquí\n\n\n\n",
      "execution_count": 4,
      "outputs": [
        {
          "name": "stdout",
          "output_type": "stream",
          "text": "Por favor digite el nombre del estudiante\nLorena\n"
        },
        {
          "data": {
            "text/plain": "str"
          },
          "execution_count": 4,
          "metadata": {},
          "output_type": "execute_result"
        }
      ]
    },
    {
      "metadata": {},
      "cell_type": "markdown",
      "source": "<font size=\"4\" color=\"#B24C00\"  face=\"verdana\"> <B>No olvide que ...</B></font>  \n> **`input()`** retorna un string (type = str) independientemente de la entrada\n- si se ingresa una cadena **`input()`** returna un string\n- si se ingresa un número **`input()`** retorna un string  \n  "
    },
    {
      "metadata": {},
      "cell_type": "markdown",
      "source": "# &nbsp;\n<font size=\"6\" color=\"#00A0B2\"  face=\"verdana\"> <B>Ejemplo</B></font>"
    },
    {
      "metadata": {
        "trusted": false
      },
      "cell_type": "code",
      "source": "student_name = input(\"Ingrese el nombre del estudiante: \")  \nprint(\"Hola \" + student_name) \nstudent_age = input(\"Ingrese la edad del estudiante: \")",
      "execution_count": null,
      "outputs": []
    },
    {
      "metadata": {},
      "cell_type": "markdown",
      "source": "<font size=\"6\" color=\"#B24C00\"  face=\"verdana\"> <B>Ejercicio</B></font>  "
    },
    {
      "metadata": {
        "collapsed": true
      },
      "cell_type": "markdown",
      "source": "\n## multiples entradas de datos\nLa mayoría de programas necesitan que se ingrese mas de un valor\n- **[ ]** utilice variables para almacenar: **name**, **age**, **mail**\n- **[ ]** lea cada una de estas variables\n- **[ ]** imprima los valores digitados   \n\n>ejemplo de salida:  \n`name = Alton`  \n`age =  17`  \n`wants email = yes`  "
    },
    {
      "metadata": {
        "trusted": false
      },
      "cell_type": "code",
      "source": "# [ ]codifique el programa completo aqui\n\n\n",
      "execution_count": null,
      "outputs": []
    },
    {
      "metadata": {},
      "cell_type": "markdown",
      "source": "### Documentación oficial de la función\n[input()][1]\n\n[1]:https://docs.python.org/3/library/functions.html#input\n"
    }
  ],
  "metadata": {
    "anaconda-cloud": {},
    "kernelspec": {
      "name": "python3",
      "display_name": "Python 3",
      "language": "python"
    },
    "language_info": {
      "mimetype": "text/x-python",
      "nbconvert_exporter": "python",
      "name": "python",
      "file_extension": ".py",
      "version": "3.5.4",
      "pygments_lexer": "ipython3",
      "codemirror_mode": {
        "version": 3,
        "name": "ipython"
      }
    }
  },
  "nbformat": 4,
  "nbformat_minor": 1
}