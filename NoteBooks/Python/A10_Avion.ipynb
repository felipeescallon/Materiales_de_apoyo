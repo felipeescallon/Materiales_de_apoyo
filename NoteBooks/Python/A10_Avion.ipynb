{
  "cells": [
    {
      "metadata": {},
      "cell_type": "markdown",
      "source": "# Programacion I\nEste caso de estudio tiene como objetivo la aplicación de la metodología para desarrollo de programas utilizando python como lenguaje de programación, este ejercicio esta basado en los ejercicios propuestos por el protecto Cupi2 de la Universidad de los Andes Tomado de  [Link][1]\n\n[1]: https://cupi2.virtual.uniandes.edu.co/"
    },
    {
      "metadata": {},
      "cell_type": "markdown",
      "source": "# (1) Especificación del Problema\n## El Avion\n\nBasado en este ejercicio  [Link][1]\n\n\nSe quiere crear un programa que tenga como objetivo el manejo de reservas de un avión. Este avión cuenta con un número establecido de sillas que se clasifican en Ejecutivas y EconomicaS. Cada silla puede ser asignada a un pasajero solo con su numero de cedula\nnombre y una cédula. Este último dato es la entrada principal para poder consultar una reserva\no eliminarla del sistema.\nCuando se asigna una silla es necesario conocer las preferencias del usuario. Este puede\nelegir la posición de la silla, ventana, pasillo o centro, y la clase, ejecutiva o económica. En el\ncaso especial de las sillas ejecutivas, solo es posible elegir las posiciones: ventana o pasillo.\nLas sillas son asignadas de forma secuencial según su ubicación y su clase. De igual forma, el\nprograma permite buscar la reserva de un pasajero y visualizar los datos de la reserva.\n[1]:https://cupi2.virtual.uniandes.edu.co/nivel-3/casos-de-estudio/el-avion\n\n\nEl programa debe permitir:\n1. Crear un avion\n2. Listar las sillas del avion\n3. Asignar una silla a un pasajero\n4. Eliminar reserva\n5. Buscar pasajero\n6. Calcular el porcentaje de ocupación del avión."
    },
    {
      "metadata": {},
      "cell_type": "markdown",
      "source": "## (2) Analisis: Lista de Requisitos Funcionales\nEl programa debe permitir:\n    - R1. Crear un avion\n    - R2. Listar las Sillas del Avión\n    - R3. Asignar una silla a un pasajero\n    - R4. Eliminar reserva\n    - R5. Buscar pasajero\n    - R6. Calcular el porcentaje de ocupación del avión."
    },
    {
      "metadata": {},
      "cell_type": "markdown",
      "source": "## (3) Analisis: Datos del Problema\n\n#### Silla\n    - numero\t\n    - clase\t\n    - ubicacion\n    - pasajero\n#### Avion\n    Lista de sillas"
    },
    {
      "metadata": {},
      "cell_type": "markdown",
      "source": "## (4) Analisis: Especificacion Requisitos\n\n<style type=\"text/css\">\n.tg  {border-collapse:collapse;border-spacing:0;border-color:#aaa;}\n.tg td{font-family:Arial, sans-serif;font-size:14px;padding:10px 5px;border-style:solid;border-width:1px;overflow:hidden;word-break:normal;border-color:#aaa;color:#333;background-color:#fff;}\n.tg th{font-family:Arial, sans-serif;font-size:14px;font-weight:normal;padding:10px 5px;border-style:solid;border-width:1px;overflow:hidden;word-break:normal;border-color:#aaa;color:#fff;background-color:#f38630;}\n.tg .tg-1wig{font-weight:bold;text-align:left;vertical-align:top}\n.tg .tg-gcmg{font-weight:bold;background-color:#f8a102;text-align:left}\n.tg .tg-4qtd{font-weight:bold;background-color:#f8a102;text-align:left;vertical-align:top}\n.tg .tg-0lax{text-align:left;vertical-align:top}\n</style>\n<table class=\"tg\">\n  <tr>\n    <th class=\"tg-gcmg\">Nombre</th>\n    <th class=\"tg-4qtd\">R1: Crear un avion</th>\n  </tr>\n  <tr>\n    <td class=\"tg-1wig\">Resumen</td>\n    <td class=\"tg-0lax\">Crea la lista de sillas para el avion  de acuerdo a las caracteristicas dadas</td>\n  </tr>\n  <tr>\n    <td class=\"tg-1wig\">Entradas</td>\n    <td class=\"tg-0lax\">numero de filas ejecutivas y numero de filas economicas</td>\n  </tr>\n  <tr>\n    <td class=\"tg-1wig\">Resultado</td>\n    <td class=\"tg-0lax\">Se crea la lista de sillas</td>\n  </tr>\n  <tr>\n    <td class=\"tg-1wig\">Restricciones</td>\n    <td class=\"tg-0lax\">el numero de filas tanto economicas como ejecutivas debe ser mayor a cero y deben haber mas filas economicas que ejecutivas</td>\n  </tr>\n</table>\n\n\n<style type=\"text/css\">\n.tg  {border-collapse:collapse;border-spacing:0;border-color:#aaa;}\n.tg td{font-family:Arial, sans-serif;font-size:14px;padding:10px 5px;border-style:solid;border-width:1px;overflow:hidden;word-break:normal;border-color:#aaa;color:#333;background-color:#fff;}\n.tg th{font-family:Arial, sans-serif;font-size:14px;font-weight:normal;padding:10px 5px;border-style:solid;border-width:1px;overflow:hidden;word-break:normal;border-color:#aaa;color:#fff;background-color:#f38630;}\n.tg .tg-1wig{font-weight:bold;text-align:left;vertical-align:top}\n.tg .tg-gcmg{font-weight:bold;background-color:#f8a102;text-align:left}\n.tg .tg-4qtd{font-weight:bold;background-color:#f8a102;text-align:left;vertical-align:top}\n.tg .tg-0lax{text-align:left;vertical-align:top}\n</style>\n<table class=\"tg\">\n  <tr>\n    <th class=\"tg-gcmg\">Nombre</th>\n    <th class=\"tg-4qtd\">R2: Listar las Sillas del Avion</th>\n  </tr>\n  <tr>\n    <td class=\"tg-1wig\">Resumen</td>\n    <td class=\"tg-0lax\">Muestra toda la información de las sillas del avion</td>\n  </tr>\n  <tr>\n    <td class=\"tg-1wig\">Entradas</td>\n    <td class=\"tg-0lax\"></td>\n  </tr>\n  <tr>\n    <td class=\"tg-1wig\">Resultado</td>\n    <td class=\"tg-0lax\"></td>\n  </tr>\n  <tr>\n    <td class=\"tg-1wig\">Restricciones</td>\n    <td class=\"tg-0lax\">Debe haberse creado el avion</td>\n  </tr>\n</table>"
    },
    {
      "metadata": {},
      "cell_type": "markdown",
      "source": "### Estructura de Datos del avión"
    },
    {
      "metadata": {
        "trusted": true
      },
      "cell_type": "code",
      "source": "avion={\"lista_sillas\":[]}",
      "execution_count": 9,
      "outputs": []
    },
    {
      "metadata": {
        "trusted": true
      },
      "cell_type": "code",
      "source": "def crearAvion(filas_ejecutiva,filas_economica):\n    num_silla=1\n    avion[\"lista_sillas\"].clear()\n    \n    for i in range (0,filas_ejecutiva):\n        silla={}\n        silla[\"numero\"]=num_silla\n        silla[\"clase\"]=\"Ejecutiva\"\n        silla[\"ubicacion\"]=\"Ventana\"\n        silla[\"pasajero\"]=\"\"\n        avion[\"lista_sillas\"].append(silla)\n        num_silla+=1\n        \n        silla={}\n        silla[\"numero\"]=num_silla\n        silla[\"clase\"]=\"Ejecutiva\"\n        silla[\"ubicacion\"]=\"Pasillo\"\n        silla[\"pasajero\"]=\"\"\n        avion[\"lista_sillas\"].append(silla)\n        num_silla+=1\n        \n        silla={}\n        silla[\"numero\"]=num_silla\n        silla[\"clase\"]=\"Ejecutiva\"\n        silla[\"ubicacion\"]=\"Pasillo\"\n        silla[\"pasajero\"]=\"\"\n        avion[\"lista_sillas\"].append(silla)\n        num_silla+=1\n\n        silla={}\n        silla[\"numero\"]=num_silla\n        silla[\"clase\"]=\"Ejecutiva\"\n        silla[\"ubicacion\"]=\"Ventana\"\n        silla[\"pasajero\"]=\"\"\n        avion[\"lista_sillas\"].append(silla)\n        num_silla+=1  \n\n",
      "execution_count": 14,
      "outputs": []
    },
    {
      "metadata": {
        "trusted": true
      },
      "cell_type": "code",
      "source": "def listarSillas():\n    for s in avion[\"lista_sillas\"]:\n        print(s,\"\\n\")",
      "execution_count": 16,
      "outputs": []
    },
    {
      "metadata": {
        "trusted": true
      },
      "cell_type": "code",
      "source": "crearAvion(1,1)\nlistarSillas()",
      "execution_count": 17,
      "outputs": [
        {
          "output_type": "stream",
          "text": "{'numero': 1, 'clase': 'Ejecutiva', 'ubicacion': 'Ventana', 'pasajero': ''} \n\n{'numero': 2, 'clase': 'Ejecutiva', 'ubicacion': 'Pasillo', 'pasajero': ''} \n\n{'numero': 3, 'clase': 'Ejecutiva', 'ubicacion': 'Pasillo', 'pasajero': ''} \n\n{'numero': 4, 'clase': 'Ejecutiva', 'ubicacion': 'Ventana', 'pasajero': ''} \n\n",
          "name": "stdout"
        }
      ]
    }
  ],
  "metadata": {
    "kernelspec": {
      "name": "python36",
      "display_name": "Python 3.6",
      "language": "python"
    },
    "language_info": {
      "mimetype": "text/x-python",
      "nbconvert_exporter": "python",
      "name": "python",
      "pygments_lexer": "ipython3",
      "version": "3.6.6",
      "file_extension": ".py",
      "codemirror_mode": {
        "version": 3,
        "name": "ipython"
      }
    }
  },
  "nbformat": 4,
  "nbformat_minor": 2
}