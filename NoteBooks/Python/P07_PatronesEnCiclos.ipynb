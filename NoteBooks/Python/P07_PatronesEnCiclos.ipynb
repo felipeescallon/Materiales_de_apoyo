{
  "cells": [
    {
      "metadata": {
        "collapsed": true
      },
      "cell_type": "markdown",
      "source": "# Patrones en Ciclos\nEste notebooks tiene como objetivo dar un repaso muy general a loas ciclos vistos en cursos anteriores, con nuestro objetivo de no re-inventar la rueda vamos a basrnos en estos dos links.\n    [link1][1]\n    [link2][2]\n    \n[1]:http://aprendeenlinea.udea.edu.co/lms/men_udea/mod/page/view.php?id=14493\n[2]:https://platzi.com/tutoriales/1050-programacion-basica/934-contadores-acumuladores-y-centinelas/\n"
    },
    {
      "metadata": {},
      "cell_type": "markdown",
      "source": "# Ejemplos Recorrido Total\n\n## Factorial\nRealizar una función que calcule el factorial de un numero entero n positivo (n!).\n\nEl factorial se define matematicamente como\n\n$fact(n)= \n\\left\\{\n       \\begin{array}{ll}\n               1 &   \\mbox{if } n==0  \\\\\n               \\prod_{i=1}^{n} t_i & \\mbox{if } n>0\n       \\end{array}\n \\right.$\n\n\n"
    },
    {
      "metadata": {
        "trusted": true
      },
      "cell_type": "code",
      "source": "# Funcion factorial implementada con el ciclo for\ndef factorial_version1(n):\n    fact=1\n    if type(n) is not int:\n        raise TypeError('el valor del argumento de la funcion factorial(n) debe ser un numero entero')\n    \n    if n<0:\n        raise RangeError('el valor del argumento de la funcion factorial(n) debe sr un numero entero mayor o igual a cero')\n\n    for i in range(1,n+1): \n        fact*=i\n    return fact\n\n# Pruebas a la funcion definida\nprint(factorial_version1(0))\nprint(factorial_version1(1))\nprint(factorial_version1(5))\nprint(factorial_version1(\"Hola\"))\n#print(factorial(-1))\n",
      "execution_count": null,
      "outputs": []
    },
    {
      "metadata": {
        "trusted": true
      },
      "cell_type": "code",
      "source": "# Funcion factorial implementada con el ciclo while\ndef factorial_version2(n):\n    fact=1\n    if type(n) is not int:\n        raise TypeError('el valor del argumento de la funcion factorial(n) debe ser un numero entero')\n    \n    if n<0:\n        raise RangeError('el valor del argumento de la funcion factorial(n) debe sr un numero entero mayor o igual a cero')\n\n    i = 2; #la variable i es el contador del numero de ciclos realizados     \n    while i <=n: \n        fact*=i\n        i+=1       #en el ciclo while el contador debe ser incrementado explicitamente \n    return fact\n\n# Pruebas a la funcion definida\nprint(factorial_version2(0))\nprint(factorial_version2(1))\nprint(factorial_version2(5))\nprint(factorial_version2(\"Hola\"))\n#print(factorial(-1))\n",
      "execution_count": 1,
      "outputs": [
        {
          "output_type": "stream",
          "text": "1\n1\n120\n",
          "name": "stdout"
        },
        {
          "output_type": "error",
          "ename": "TypeError",
          "evalue": "el valor del argumento de la funcion factorial(n) debe ser un numero entero",
          "traceback": [
            "\u001b[0;31m---------------------------------------------------------------------------\u001b[0m",
            "\u001b[0;31mTypeError\u001b[0m                                 Traceback (most recent call last)",
            "\u001b[0;32m<ipython-input-1-a935bd4299bf>\u001b[0m in \u001b[0;36m<module>\u001b[0;34m\u001b[0m\n\u001b[1;32m     18\u001b[0m \u001b[0mprint\u001b[0m\u001b[0;34m(\u001b[0m\u001b[0mfactorial_version2\u001b[0m\u001b[0;34m(\u001b[0m\u001b[0;36m1\u001b[0m\u001b[0;34m)\u001b[0m\u001b[0;34m)\u001b[0m\u001b[0;34m\u001b[0m\u001b[0m\n\u001b[1;32m     19\u001b[0m \u001b[0mprint\u001b[0m\u001b[0;34m(\u001b[0m\u001b[0mfactorial_version2\u001b[0m\u001b[0;34m(\u001b[0m\u001b[0;36m5\u001b[0m\u001b[0;34m)\u001b[0m\u001b[0;34m)\u001b[0m\u001b[0;34m\u001b[0m\u001b[0m\n\u001b[0;32m---> 20\u001b[0;31m \u001b[0mprint\u001b[0m\u001b[0;34m(\u001b[0m\u001b[0mfactorial_version2\u001b[0m\u001b[0;34m(\u001b[0m\u001b[0;34m\"Hola\"\u001b[0m\u001b[0;34m)\u001b[0m\u001b[0;34m)\u001b[0m\u001b[0;34m\u001b[0m\u001b[0m\n\u001b[0m\u001b[1;32m     21\u001b[0m \u001b[0;31m#print(factorial(-1))\u001b[0m\u001b[0;34m\u001b[0m\u001b[0;34m\u001b[0m\u001b[0m\n",
            "\u001b[0;32m<ipython-input-1-a935bd4299bf>\u001b[0m in \u001b[0;36mfactorial_version2\u001b[0;34m(n)\u001b[0m\n\u001b[1;32m      3\u001b[0m     \u001b[0mfact\u001b[0m\u001b[0;34m=\u001b[0m\u001b[0;36m1\u001b[0m\u001b[0;34m\u001b[0m\u001b[0m\n\u001b[1;32m      4\u001b[0m     \u001b[0;32mif\u001b[0m \u001b[0mtype\u001b[0m\u001b[0;34m(\u001b[0m\u001b[0mn\u001b[0m\u001b[0;34m)\u001b[0m \u001b[0;32mis\u001b[0m \u001b[0;32mnot\u001b[0m \u001b[0mint\u001b[0m\u001b[0;34m:\u001b[0m\u001b[0;34m\u001b[0m\u001b[0m\n\u001b[0;32m----> 5\u001b[0;31m         \u001b[0;32mraise\u001b[0m \u001b[0mTypeError\u001b[0m\u001b[0;34m(\u001b[0m\u001b[0;34m'el valor del argumento de la funcion factorial(n) debe ser un numero entero'\u001b[0m\u001b[0;34m)\u001b[0m\u001b[0;34m\u001b[0m\u001b[0m\n\u001b[0m\u001b[1;32m      6\u001b[0m \u001b[0;34m\u001b[0m\u001b[0m\n\u001b[1;32m      7\u001b[0m     \u001b[0;32mif\u001b[0m \u001b[0mn\u001b[0m\u001b[0;34m<\u001b[0m\u001b[0;36m0\u001b[0m\u001b[0;34m:\u001b[0m\u001b[0;34m\u001b[0m\u001b[0m\n",
            "\u001b[0;31mTypeError\u001b[0m: el valor del argumento de la funcion factorial(n) debe ser un numero entero"
          ]
        }
      ]
    },
    {
      "metadata": {},
      "cell_type": "markdown",
      "source": "### Ejericicios con factorial\n\n#### suma de factoriales\nRealizar una función que calcule la sumatoria de los factoriales desde 0 hasta un número entero dado.\n\n$sumaFactoriales(n)= 0!+1!+...n!$\n\n#### suma de factoriales dos\nDada una lista de numeros enteros calcular la suma de los factoriales de sus elementos\n\n$lista=$[a<sub>0</sub>,a<sub>1</sub>,a<sub>2</sub>...a<sub>k</sub>...a<sub>n</sub>]\n\n$sumaFactoriales(n)=$ a<sub>0</sub>!+a<sub>1</sub>!+a<sub>2</sub>!+...+a<sub>k</sub>!+...+a<sub>n</sub>!]\n\n#### obtfener factoriales\n\nDada una lista de numeros enteros obtener otra lista que tenga en cada posicion el factorial correspondiente  con el  elemento de la lista de entrada."
    },
    {
      "metadata": {},
      "cell_type": "markdown",
      "source": "## Listas\n\n### Sumando pares en una lista\nDada una lista de numeros enteros calcular la suma de los numeros pares en dicha lista\n"
    },
    {
      "metadata": {
        "trusted": true
      },
      "cell_type": "code",
      "source": "def suma_pares_en_lista(numeros):\n    \n    if type(numeros) is not list:\n        raise TypeError('El argumento numeros de la función debe ser una lista')\n    if len(numeros) == 0:\n        return 0\n    \n    sum = 0\n    for n in numeros:\n        if n%2==0:\n            sum += n\n    return sum\n\n# Prueba a la funcion definida\nlista=[2,4,6,8]\nprint(suma_pares_en_lista(lista))\nlista=[]\nprint(suma_pares_en_lista(lista))\nlista=[1,2,3,4]\nprint(suma_pares_en_lista(lista))",
      "execution_count": 9,
      "outputs": [
        {
          "output_type": "stream",
          "text": "20\n0\n6\n",
          "name": "stdout"
        }
      ]
    },
    {
      "metadata": {
        "trusted": true
      },
      "cell_type": "code",
      "source": "",
      "execution_count": null,
      "outputs": []
    },
    {
      "metadata": {},
      "cell_type": "markdown",
      "source": "## Ejercicio relacionado\n\n### Sumando numeros en posiciones pares de la lista\nDada una lista de numeros enteros calcular la suma de los numeros que se encuentran en posiciones pares de la lista. (asuma la posicion 0 cokmo par)"
    },
    {
      "metadata": {},
      "cell_type": "markdown",
      "source": "# Ejemplos Recorrido Parcial\n\n### El numero de personas en un ascensor\n\nUn ascensor tiene un peso maximo con el cual puede operar con normalidad, se desea un programa que dada una lista con el peso de un grupo de personas calcule a cuantas personas puede llevar si se sabe que el peso maximo es 800 kilos.\n\n"
    },
    {
      "metadata": {
        "trusted": true
      },
      "cell_type": "code",
      "source": "def numero_personas_permitido(pesos,peso_maximo):\n    contador_personas=0\n    suma_pesos=0\n    \n    while suma_pesos <= peso_maximo and contador_personas <= len(pesos):\n        suma_pesos+=pesos[contador_personas]\n        contador_personas+=1\n        \n    if(suma_pesos > peso_maximo): # pudo sobrepasar el maximo el ultimo peso dado\n        contador_personas-=1\n    return contador_personas    \n        \nPESO_MAXIMO=800\nlista_pesos= [80,90,70,100,45,90,120,60,70,98,90,10]\nprint(numero_personas_permitido(lista_pesos,PESO_MAXIMO))",
      "execution_count": 17,
      "outputs": [
        {
          "output_type": "stream",
          "text": "9\n",
          "name": "stdout"
        }
      ]
    },
    {
      "metadata": {},
      "cell_type": "markdown",
      "source": "### Ejercicios recorrido parcial\n\n#### Buscando un valor\nDada una lista de numeros enteros y un numero entero n, realizar una función que busque si el numero n se encuentra en la lista, en caso afirmativo debe retornarv su posición (en caso negativo debe retornar -1)\n\n#### Promedio de edad\n\nDada una lista de numeros enteros que corresponde con las edades de un grupo de personas, realizar una funcion que calcule el numero de personas necesarias para obtener un promedio de edad dado. \n\n#### Mini diccionario\n\nSe tiene la siguiente estructura de datos\n\n```python\ndiccionario={\"lista_terminos\":[]}\ntermino={\"español\":\"\",\"ingles\":\"\"}\n```\nSe desea una funcion que dado un diccionario y un termino en español, retorne su traducción en ingles\n\n```python\nlista_terminos=[{\"one\",\"uno\"},{\"two\",\"dos\"},{\"three\",\"tres\"}]\ndiccionario[\"lista_terminos\"]=lista_terminos\n```\n"
    },
    {
      "metadata": {},
      "cell_type": "markdown",
      "source": "# Ejercicios Miscelaneos\n\n### Edad y Salario\nDada una estructura de datos que contiene una lista con el nombre, edad y salario de un conjunto de personas realizar:\n    - Una función que calcule cual es la persona mayor \n    - Una función que calcule cual es la persona con menor salario\n    - Una funcion que calcule cuantas personas estan por encima del salario promedio del grupo\n    - Una funcion que calcule cuantas personas estan por debajo de la edad promedio del grupo\n    - Una función que calcule el porcentaje de personas que estan por debajo de la edad promedio pero por encima del salario promedio \n    \n#### Nota importante\nDeben utilizar funciones \"auxiliares\" a las pedidas para los cualculos de promedios"
    }
  ],
  "metadata": {
    "kernelspec": {
      "name": "python36",
      "display_name": "Python 3.6",
      "language": "python"
    },
    "language_info": {
      "mimetype": "text/x-python",
      "nbconvert_exporter": "python",
      "name": "python",
      "pygments_lexer": "ipython3",
      "version": "3.6.6",
      "file_extension": ".py",
      "codemirror_mode": {
        "version": 3,
        "name": "ipython"
      }
    }
  },
  "nbformat": 4,
  "nbformat_minor": 2
}