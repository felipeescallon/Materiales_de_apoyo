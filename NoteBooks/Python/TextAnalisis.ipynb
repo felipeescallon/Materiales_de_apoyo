{
 "cells": [
  {
   "cell_type": "markdown",
   "metadata": {},
   "source": [
    "# Utilización del Patron Pipe&amp;Filter \n",
    "### Tratamiento de lenguaje natural\n",
    "\n",
    "## Introducción\n",
    "Cuando se va a  hacer análisis de texto en lenguaje natural, antes de hacer los análisis mas complejos, se debe depurar el texto de palabras \"vacias\" desde el punto de vista analítico y luego hacer los cálculos necesarios.\n",
    "\n",
    "Este ejemplo presenta un caso de estudio básico para identificar las palabras mas importantes de un texto.\n"
   ]
  },
  {
   "cell_type": "code",
   "execution_count": null,
   "metadata": {},
   "outputs": [],
   "source": [
    "!pip install pandas\n",
    "!pip install numpy\n",
    "!pip install scipy\n",
    "!pip install sklearn\n",
    "!pip install matploplib\n",
    "!pip install nltk #Libreria para lenguaje natural\n"
   ]
  },
  {
   "cell_type": "markdown",
   "metadata": {},
   "source": [
    "# Importar las librerias necesarias en Python"
   ]
  },
  {
   "cell_type": "code",
   "execution_count": null,
   "metadata": {},
   "outputs": [],
   "source": [
    "from __future__ import division\n",
    "\n",
    "import codecs\n",
    "import re\n",
    "import copy\n",
    "import collections\n",
    "\n",
    "import numpy as np\n",
    "import pandas as pd\n",
    "import nltk\n",
    "from nltk.corpus import stopwords \n",
    "from nltk.stem import PorterStemmer\n",
    "from nltk.tokenize import WordPunctTokenizer\n",
    "\n",
    "import matplotlib\n",
    "\n",
    "%matplotlib inline\n",
    "\n"
   ]
  },
  {
   "cell_type": "markdown",
   "metadata": {},
   "source": [
    "# Descarga las palabras \"vacias\" del Inglés"
   ]
  },
  {
   "cell_type": "code",
   "execution_count": null,
   "metadata": {},
   "outputs": [],
   "source": [
    "nltk.download(\"stopwords\")\n",
    "esw=stopwords.words('english')"
   ]
  },
  {
   "cell_type": "markdown",
   "metadata": {},
   "source": [
    "# Define la expresion regular para identificar palabras"
   ]
  },
  {
   "cell_type": "code",
   "execution_count": null,
   "metadata": {},
   "outputs": [],
   "source": [
    "word_pattern=re.compile(\"\\w+$\")"
   ]
  },
  {
   "cell_type": "markdown",
   "metadata": {},
   "source": [
    "# Tokeniza el texto\n",
    "Obtiene las palabras del texto dado, las convierte a minúsculas y elimina las palabfras vacias. "
   ]
  },
  {
   "cell_type": "code",
   "execution_count": null,
   "metadata": {},
   "outputs": [],
   "source": [
    "def get_text_counter(text):\n",
    "    tokens=WordPunctTokenizer().tokenize(PorterStemmer().stem(text))\n",
    "    tokens=list(map(lambda x: x.lower(),tokens))\n",
    "    tokens = [token for token in tokens if re.match(word_pattern,token) and token not in esw]\n",
    "    return collections.Counter(tokens), len(tokens)\n",
    "    \n",
    "    "
   ]
  },
  {
   "cell_type": "markdown",
   "metadata": {},
   "source": [
    "# Calcula la ferecuencia absoluta y relativa de cada palabra"
   ]
  },
  {
   "cell_type": "code",
   "execution_count": null,
   "metadata": {},
   "outputs": [],
   "source": [
    "def make_df(counter,size):\n",
    "    abs_freq=np.array([el[1] for el in counter])\n",
    "    rel_freq=abs_freq/size\n",
    "    index=[el[0] for el in counter]\n",
    "    df = pd.DataFrame(data=np.array([abs_freq,rel_freq]).T,index=index, columns=[\"Frecuencia Absoluta\", \"Frecuencia Relativa\"])\n",
    "    df.index.name=\"Palabras mas comunes\"\n",
    "    return df\n",
    "    "
   ]
  },
  {
   "cell_type": "markdown",
   "metadata": {},
   "source": [
    "# Análiis del texto"
   ]
  },
  {
   "cell_type": "code",
   "execution_count": null,
   "metadata": {},
   "outputs": [],
   "source": [
    "file1 = open(\"alice29.txt\")\n",
    "jane_eyre = file1.read()\n",
    "je_counter, je_size=get_text_counter(jane_eyre)\n",
    "\n",
    "je_df=make_df(je_counter.most_common(10),je_size)\n",
    "\n",
    "je_df\n"
   ]
  }
 ],
 "metadata": {
  "kernelspec": {
   "display_name": "Python 3.6",
   "language": "python",
   "name": "python36"
  },
  "language_info": {
   "codemirror_mode": {
    "name": "ipython",
    "version": 3
   },
   "file_extension": ".py",
   "mimetype": "text/x-python",
   "name": "python",
   "nbconvert_exporter": "python",
   "pygments_lexer": "ipython3",
   "version": "3.6.6"
  }
 },
 "nbformat": 4,
 "nbformat_minor": 2
}
