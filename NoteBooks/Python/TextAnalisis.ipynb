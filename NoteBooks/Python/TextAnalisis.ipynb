{
  "cells": [
    {
      "metadata": {},
      "cell_type": "markdown",
      "source": "# UtilizaciÃ³n del Patron Pipe&Filter \n### Tratamiento de lenguaje natural\n\n## IntroducciÃ³n\nCuando se va a  hacer anÃ¡lisis de texto en lenguaje natural, antes de hacer los anÃ¡lisis mas complejos, se debe depurar el texto de palabras \"vacias\" desde el punto de vista analÃ­tico y luego hacer los cÃ¡lculos necesarios.\n\nEste ejemplo presenta un caso de estudio bÃ¡sico para identificar las palabras mas importantes de un texto.\n"
    },
    {
      "metadata": {
        "trusted": true
      },
      "cell_type": "code",
      "source": "!pip install pandas\n!pip install numpy\n!pip install scipy\n!pip install sklearn\n!pip install matploplib\n!pip install nltk #Libreria para lenguaje natural\n",
      "execution_count": null,
      "outputs": []
    },
    {
      "metadata": {},
      "cell_type": "markdown",
      "source": "# Importar las librerias necesarias en Python"
    },
    {
      "metadata": {
        "trusted": true
      },
      "cell_type": "code",
      "source": "from __future__ import division\n\nimport codecs\nimport re\nimport copy\nimport collections\n\nimport numpy as np\nimport pandas as pd\nimport nltk\nfrom nltk.corpus import stopwords \nfrom nltk.stem import PorterStemmer\nfrom nltk.tokenize import WordPunctTokenizer\n\nimport matplotlib\n\n%matplotlib inline\n\n",
      "execution_count": null,
      "outputs": []
    },
    {
      "metadata": {},
      "cell_type": "markdown",
      "source": "# Descarga las palabras \"vacias\" del InglÃ©s"
    },
    {
      "metadata": {
        "trusted": true
      },
      "cell_type": "code",
      "source": "nltk.download(\"stopwords\")\nesw=stopwords.words('english')",
      "execution_count": null,
      "outputs": []
    },
    {
      "metadata": {},
      "cell_type": "markdown",
      "source": "# Define la expresion regular para identificar palabras"
    },
    {
      "metadata": {
        "trusted": true
      },
      "cell_type": "code",
      "source": "word_pattern=re.compile(\"\\w+$\")",
      "execution_count": null,
      "outputs": []
    },
    {
      "metadata": {},
      "cell_type": "markdown",
      "source": "# Tokeniza el texto\nObtiene las palabras del texto dado, las convierte a minÃºsculas y elimina las palabfras vacias. "
    },
    {
      "metadata": {
        "trusted": true
      },
      "cell_type": "code",
      "source": "def get_text_counter(text):\n    tokens=WordPunctTokenizer().tokenize(PorterStemmer().stem(text))\n    tokens=list(map(lambda x: x.lower(),tokens))\n    tokens = [token for token in tokens if re.match(word_pattern,token) and token not in esw]\n    return collections.Counter(tokens), len(tokens)\n    \n    ",
      "execution_count": null,
      "outputs": []
    },
    {
      "metadata": {},
      "cell_type": "markdown",
      "source": "# Calcula la ferecuencia absoluta y relativa de cada palabra"
    },
    {
      "metadata": {
        "trusted": true
      },
      "cell_type": "code",
      "source": "def make_df(counter,size):\n    abs_freq=np.array([el[1] for el in counter])\n    rel_freq=abs_freq/size\n    index=[el[0] for el in counter]\n    df = pd.DataFrame(data=np.array([abs_freq,rel_freq]).T,index=index, columns=[\"Frecuencia Absoluta\", \"Frecuencia Relativa\"])\n    df.index.name=\"Palabras mas comunes\"\n    return df\n    ",
      "execution_count": null,
      "outputs": []
    },
    {
      "metadata": {},
      "cell_type": "markdown",
      "source": "# AnÃ¡lisis del texto"
    },
    {
      "metadata": {
        "trusted": true
      },
      "cell_type": "code",
      "source": "file1 = open(\"alice29.txt\")\njane_eyre = file1.read()\nje_counter, je_size=get_text_counter(jane_eyre)\n\nje_df=make_df(je_counter.most_common(10),je_size)\n\nje_df\n",
      "execution_count": null,
      "outputs": []
    }
  ],
  "metadata": {
    "kernelspec": {
      "name": "python36",
      "display_name": "Python 3.6",
      "language": "python"
    },
    "language_info": {
      "mimetype": "text/x-python",
      "nbconvert_exporter": "python",
      "name": "python",
      "pygments_lexer": "ipython3",
      "version": "3.6.6",
      "file_extension": ".py",
      "codemirror_mode": {
        "version": 3,
        "name": "ipython"
      }
    }
  },
  "nbformat": 4,
  "nbformat_minor": 2
}
