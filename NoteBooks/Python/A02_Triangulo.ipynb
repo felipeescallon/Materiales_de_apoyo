{
  "cells": [
    {
      "metadata": {
        "collapsed": true
      },
      "cell_type": "markdown",
      "source": "# Caso de Estudio  \nEste caso de estudio tiene como objetivo la aplicación de la metodología para desarrollo de programas utilizando python como lenguaje de programación, este ejercicio esta basado en los ejercicios propuestos por el protecto Cupi2 de la Universidad de los Andes Tomado de  [Link][1]\n\n[1]: https://cupi2.virtual.uniandes.edu.co/"
    },
    {
      "metadata": {},
      "cell_type": "markdown",
      "source": "# (1) Especificación del Problema\n## El triangulo\nTomado de [link][1]\n\n[1]:https://cupi2.virtual.uniandes.edu.co/nivel-1/casos/el-triangulo\n\n\nSe quiere construir un programa que permita **dibujar un triángulo**. Esta figura geométrica está definida por tres puntos, cada uno de los cuales tiene dos coordenadas **X, Y**. Este triángulo tiene, además, **un color** para las líneas y un **color** para el relleno.\n\nUn color, por su parte, está definido por tres valores numéricos entre 0 y 255 (estándar RGB por Red-Green-Blue). El primer valor numérico define la intensidad en rojo, el segundo en verde y el tercero el azul.\n\n![image.png](attachment:image.png)",
      "attachments": {
        "image.png": {
          "image/png": "[encoded data removed]"
        }
      }
    },
    {
      "metadata": {},
      "cell_type": "markdown",
      "source": "## (2) Analisis: Lista de Requisitos Funcionales\n    - R1 Cambiar los puntos del triángulo.\n    - R2 Cambiar el color de relleno del triángulo.\n    - R3 Cambiar el color de las líneas (bordes) del triángulo.\n    - R4 Calcular el perímetro del triángulo.\n    - R5 Calcular el área del triángulo\n    - R6 Dibujar el triángulo en la interfaz.\n "
    },
    {
      "metadata": {},
      "cell_type": "markdown",
      "source": " ## (3) Analisis: Datos del Problema\n#### Punto1\n     - x\n     - y\n#### Punto2\n     - x\n     - y\n#### Punto3\n     - x\n     - y\n### Color relleno\n    - R\n    - V\n    - A\n### Color borde\n    - R\n    - V\n    - A\n"
    },
    {
      "metadata": {},
      "cell_type": "markdown",
      "source": "## (4) Diseño: Estructuras de Datos\n### Datos Punto 1\n<style type=\"text/css\">\n.tg  {border-collapse:collapse;border-spacing:0;border-color:#aaa;}\n.tg td{font-family:Arial, sans-serif;font-size:14px;padding:10px 5px;border-style:solid;border-width:1px;overflow:hidden;word-break:normal;border-color:#aaa;color:#333;background-color:#fff;}\n.tg th{font-family:Arial, sans-serif;font-size:14px;font-weight:normal;padding:10px 5px;border-style:solid;border-width:1px;overflow:hidden;word-break:normal;border-color:#aaa;color:#fff;background-color:#f38630;}\n.tg .tg-5ua9{font-weight:bold;text-align:left}\n.tg .tg-r3cy{font-weight:bold;font-style:italic;text-align:left}\n.tg .tg-s268{text-align:left}\n</style>\n<table class=\"tg\">\n  <tr>\n    <th class=\"tg-5ua9\">Identificador</th>\n    <th class=\"tg-5ua9\">Tipo</th>\n  </tr>\n  <tr>\n    <td class=\"tg-r3cy\">x</td>\n    <td class=\"tg-s268\">un numero entero</td>\n  </tr>\n  <tr>\n    <td class=\"tg-r3cy\">y</td>\n    <td class=\"tg-s268\">un numero entero</td>\n  </tr>\n \n</table>\n\n### Datos Punto 2\n<style type=\"text/css\">\n.tg  {border-collapse:collapse;border-spacing:0;border-color:#aaa;}\n.tg td{font-family:Arial, sans-serif;font-size:14px;padding:10px 5px;border-style:solid;border-width:1px;overflow:hidden;word-break:normal;border-color:#aaa;color:#333;background-color:#fff;}\n.tg th{font-family:Arial, sans-serif;font-size:14px;font-weight:normal;padding:10px 5px;border-style:solid;border-width:1px;overflow:hidden;word-break:normal;border-color:#aaa;color:#fff;background-color:#f38630;}\n.tg .tg-5ua9{font-weight:bold;text-align:left}\n.tg .tg-r3cy{font-weight:bold;font-style:italic;text-align:left}\n.tg .tg-s268{text-align:left}\n</style>\n<table class=\"tg\">\n  <tr>\n    <th class=\"tg-5ua9\">Identificador</th>\n    <th class=\"tg-5ua9\">Tipo</th>\n  </tr>\n  <tr>\n    <td class=\"tg-r3cy\">x</td>\n    <td class=\"tg-s268\">un numero entero</td>\n  </tr>\n  <tr>\n    <td class=\"tg-r3cy\">y</td>\n    <td class=\"tg-s268\">un numero entero</td>\n  </tr>\n \n</table>\n\n### Datos Punto 3\n<style type=\"text/css\">\n.tg  {border-collapse:collapse;border-spacing:0;border-color:#aaa;}\n.tg td{font-family:Arial, sans-serif;font-size:14px;padding:10px 5px;border-style:solid;border-width:1px;overflow:hidden;word-break:normal;border-color:#aaa;color:#333;background-color:#fff;}\n.tg th{font-family:Arial, sans-serif;font-size:14px;font-weight:normal;padding:10px 5px;border-style:solid;border-width:1px;overflow:hidden;word-break:normal;border-color:#aaa;color:#fff;background-color:#f38630;}\n.tg .tg-5ua9{font-weight:bold;text-align:left}\n.tg .tg-r3cy{font-weight:bold;font-style:italic;text-align:left}\n.tg .tg-s268{text-align:left}\n</style>\n<table class=\"tg\">\n  <tr>\n    <th class=\"tg-5ua9\">Identificador</th>\n    <th class=\"tg-5ua9\">Tipo</th>\n  </tr>\n  <tr>\n    <td class=\"tg-r3cy\">x</td>\n    <td class=\"tg-s268\">un numero entero</td>\n  </tr>\n  <tr>\n    <td class=\"tg-r3cy\">y</td>\n    <td class=\"tg-s268\">un numero entero</td>\n  </tr>\n \n</table>\n\n\n### Datos Color relleno\n<style type=\"text/css\">\n.tg  {border-collapse:collapse;border-spacing:0;border-color:#aaa;}\n.tg td{font-family:Arial, sans-serif;font-size:14px;padding:10px 5px;border-style:solid;border-width:1px;overflow:hidden;word-break:normal;border-color:#aaa;color:#333;background-color:#fff;}\n.tg th{font-family:Arial, sans-serif;font-size:14px;font-weight:normal;padding:10px 5px;border-style:solid;border-width:1px;overflow:hidden;word-break:normal;border-color:#aaa;color:#fff;background-color:#f38630;}\n.tg .tg-5ua9{font-weight:bold;text-align:left}\n.tg .tg-r3cy{font-weight:bold;font-style:italic;text-align:left}\n.tg .tg-s268{text-align:left}\n</style>\n<table class=\"tg\">\n  <tr>\n    <th class=\"tg-5ua9\">Identificador</th>\n    <th class=\"tg-5ua9\">Tipo</th>\n  </tr>\n  <tr>\n    <td class=\"tg-r3cy\">R</td>\n    <td class=\"tg-s268\">un numero entero entre 0 y 255</td>\n  </tr>\n  <tr>\n    <td class=\"tg-r3cy\">V </td>\n    <td class=\"tg-s268\">un numero entero entre 0 y 255</td>\n  </tr>\n  <tr>\n    <td class=\"tg-r3cy\">A </td>\n    <td class=\"tg-s268\">un numero entero entre 0 y 255</td>\n  </tr>\n</table>\n\n### Datos Color borde\n<style type=\"text/css\">\n.tg  {border-collapse:collapse;border-spacing:0;border-color:#aaa;}\n.tg td{font-family:Arial, sans-serif;font-size:14px;padding:10px 5px;border-style:solid;border-width:1px;overflow:hidden;word-break:normal;border-color:#aaa;color:#333;background-color:#fff;}\n.tg th{font-family:Arial, sans-serif;font-size:14px;font-weight:normal;padding:10px 5px;border-style:solid;border-width:1px;overflow:hidden;word-break:normal;border-color:#aaa;color:#fff;background-color:#f38630;}\n.tg .tg-5ua9{font-weight:bold;text-align:left}\n.tg .tg-r3cy{font-weight:bold;font-style:italic;text-align:left}\n.tg .tg-s268{text-align:left}\n</style>\n<table class=\"tg\">\n  <tr>\n    <th class=\"tg-5ua9\">Identificador</th>\n    <th class=\"tg-5ua9\">Tipo</th>\n  </tr>\n  <tr>\n    <td class=\"tg-r3cy\">R</td>\n    <td class=\"tg-s268\">un numero entero entre 0 y 255</td>\n  </tr>\n  <tr>\n    <td class=\"tg-r3cy\">V </td>\n    <td class=\"tg-s268\">un numero entero entre 0 y 255</td>\n  </tr>\n  <tr>\n    <td class=\"tg-r3cy\">A </td>\n    <td class=\"tg-s268\">un numero entero entre 0 y 255</td>\n  </tr>\n</table>\n"
    },
    {
      "metadata": {},
      "cell_type": "markdown",
      "source": "## (5) Implementación: Estructuras de Datos"
    },
    {
      "metadata": {},
      "cell_type": "markdown",
      "source": "### Estructutra de Datos Punto 1"
    },
    {
      "metadata": {
        "trusted": true
      },
      "cell_type": "code",
      "source": "",
      "execution_count": null,
      "outputs": []
    },
    {
      "metadata": {},
      "cell_type": "markdown",
      "source": "### Estructutra de Datos Punto 2"
    },
    {
      "metadata": {
        "trusted": true
      },
      "cell_type": "code",
      "source": "",
      "execution_count": null,
      "outputs": []
    },
    {
      "metadata": {},
      "cell_type": "markdown",
      "source": "### Estructutra de Datos Punto 3"
    },
    {
      "metadata": {
        "trusted": true
      },
      "cell_type": "code",
      "source": "",
      "execution_count": null,
      "outputs": []
    },
    {
      "metadata": {},
      "cell_type": "markdown",
      "source": "### Estructutra de Color relleno"
    },
    {
      "metadata": {
        "trusted": true
      },
      "cell_type": "code",
      "source": "",
      "execution_count": null,
      "outputs": []
    },
    {
      "metadata": {},
      "cell_type": "markdown",
      "source": "### Estructutra de Color borde"
    },
    {
      "metadata": {
        "trusted": true
      },
      "cell_type": "code",
      "source": "",
      "execution_count": null,
      "outputs": []
    }
  ],
  "metadata": {
    "kernelspec": {
      "name": "python36",
      "display_name": "Python 3.6",
      "language": "python"
    },
    "language_info": {
      "mimetype": "text/x-python",
      "nbconvert_exporter": "python",
      "name": "python",
      "pygments_lexer": "ipython3",
      "version": "3.6.6",
      "file_extension": ".py",
      "codemirror_mode": {
        "version": 3,
        "name": "ipython"
      }
    }
  },
  "nbformat": 4,
  "nbformat_minor": 2
}