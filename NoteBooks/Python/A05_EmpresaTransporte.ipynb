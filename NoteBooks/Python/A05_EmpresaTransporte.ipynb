{
 "cells": [
  {
   "cell_type": "markdown",
   "metadata": {
    "collapsed": true
   },
   "source": [
    "# Caso de Estudio  \n",
    "Este caso de estudio tiene como objetivo la aplicación de la metodología para desarrollo de programas utilizando python como lenguaje de programación, este ejercicio esta basado en los ejercicios propuestos por el protecto Cupi2 de la Universidad de los Andes Tomado de  [Link][1]\n",
    "\n",
    "[1]: https://cupi2.virtual.uniandes.edu.co/"
   ]
  },
  {
   "cell_type": "markdown",
   "metadata": {},
   "source": [
    "# (1) Especificación del Problema\n",
    "## La Empresa de transporte\n",
    "Tomado de [link][1]\n",
    "\n",
    "[1]:https://cupi2.virtual.uniandes.edu.co/nivel-2/casos-de-estudio/empresa-de-transporte\n",
    "\n",
    "Una empresa de transporte tiene 3 camiones para llevar carga de una ciudad a otra del país. De cada camión se tiene su matrícula (6 caracteres), su capacidad (en kilogramos) y el consumo de gasolina por kilómetro (un valor real en litros/kilómetro) y la carga actual (en kilogramos). Se quiere construir un programa que permita optimizar el uso de los camiones.\n",
    "\n",
    "Para esto debe tener una única opción que determina cuál es el mejor camión para transportar una cierta carga entre dos ciudades. El mejor camión es aquél que, siendo capaz de transportar la carga, consume la mínima cantidad de gasolina."
   ]
  },
  {
   "cell_type": "markdown",
   "metadata": {},
   "source": [
    "## (2) Analisis: Lista de Requisitos Funcionales\n",
    "\n",
    "### Escriba la lista de los requisitos funcionales .\n"
   ]
  },
  {
   "cell_type": "markdown",
   "metadata": {},
   "source": [
    " ## (3) Analisis: Datos del Problema\n",
    " ### Haga el análisis de la estructura de datos"
   ]
  },
  {
   "cell_type": "markdown",
   "metadata": {},
   "source": [
    "## (4) Diseño: Estructuras de Datos\n",
    "### Diaseñe la estructura de datos\n"
   ]
  },
  {
   "cell_type": "markdown",
   "metadata": {},
   "source": [
    "## (5) Implementación: Estructuras de Datos\n",
    "### Diaseñe la estructura de datos"
   ]
  }
 ],
 "metadata": {
  "kernelspec": {
   "display_name": "Python 3.6",
   "language": "python",
   "name": "python36"
  },
  "language_info": {
   "codemirror_mode": {
    "name": "ipython",
    "version": 3
   },
   "file_extension": ".py",
   "mimetype": "text/x-python",
   "name": "python",
   "nbconvert_exporter": "python",
   "pygments_lexer": "ipython3",
   "version": "3.6.6"
  }
 },
 "nbformat": 4,
 "nbformat_minor": 2
}
