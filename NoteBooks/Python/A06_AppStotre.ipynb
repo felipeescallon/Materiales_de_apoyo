{
 "cells": [
  {
   "cell_type": "markdown",
   "metadata": {
    "collapsed": true
   },
   "source": [
    "# Caso de Estudio  \n",
    "Este caso de estudio tiene como objetivo la aplicación de la metodología para desarrollo de programas utilizando python como lenguaje de programación, este ejercicio esta basado en los ejercicios propuestos por el protecto Cupi2 de la Universidad de los Andes Tomado de  [Link][1]\n",
    "\n",
    "[1]: https://cupi2.virtual.uniandes.edu.co/"
   ]
  },
  {
   "cell_type": "markdown",
   "metadata": {},
   "source": [
    "# (1) Especificación del Problema\n",
    "## AppStore\n",
    "Tomado de [link][1]\n",
    "\n",
    "[1]:https://cupi2.virtual.uniandes.edu.co/nivel-2/ejemplos/cupi-app-store\n",
    "\n",
    "Se quiere construir una aplicación para manejar un AppStore de juegos. Esta aplicación debe permitir manejar 4 juegos y contar con la posibilidad de compra y venta de licencias de los mismos.\n",
    "\n",
    "Cada juego se caracteriza por tener:\n",
    "\n",
    "    - Nombre, que es único.\n",
    "    - Categoría a la que pertenece. Puede ser: rompecabezas, acción o deporte.\n",
    "    - Tamaño: memoria que ocupa en kilobytes (KB).\n",
    "    - Precio de la unidad en pesos.  \n",
    "    - Cantidad de licencias disponibles.\n",
    "    - Cantidad de licencias vendidas.\n",
    "    \n",
    "Adicionalmente, el programa debe permitir calcular posibles descuentos para clientes que desean comprar licencias de juego en un volumen alto. En este caso, debido a las políticas de ventas y mercadeo, las promociones vigentes son las siguientes:\n",
    "\n",
    "    1. Si el comprador solicita al menos 25 licencias de juegos de rompecabezas sin importar la cantidad de juegos que solicite de \n",
    "    otras categorías, se dará el 20% de descuento sobre el valor total del pedido.\n",
    "    2. Si el comprador solicita al menos 20 licencias de juegos de deportes y 15 licencias de juegos de acción, se dará el 15% de \n",
    "    descuento sobre el valor total del pedido.\n",
    "\n",
    "Si en una compra se cumplen ambas condiciones, sólo se aplica la primera promoción que aplique.\n",
    "\n",
    "El programa debe permitir:\n",
    "\n",
    "    1. Visualizar la información detallada de cada juego. \n",
    "    2. Comprar licencias de un juego.\n",
    "    3. Vender licencias de un juego.\n",
    "    4. Consultar el juego más vendido.\n",
    "    5. Consultar los descuentos aplicados por un volumen de compra."
   ]
  },
  {
   "cell_type": "markdown",
   "metadata": {},
   "source": [
    "## (2) Analisis: Lista de Requisitos Funcionales\n",
    "\n",
    "### Escriba la lista de los requisitos funcionales .\n"
   ]
  },
  {
   "cell_type": "markdown",
   "metadata": {},
   "source": [
    " ## (3) Analisis: Datos del Problema\n",
    " ### Haga el análisis de la estructura de datos"
   ]
  },
  {
   "cell_type": "markdown",
   "metadata": {},
   "source": [
    "## (4) Diseño: Estructuras de Datos\n",
    "### Diaseñe la estructura de datos\n"
   ]
  },
  {
   "cell_type": "markdown",
   "metadata": {},
   "source": [
    "## (5) Implementación: Estructuras de Datos\n",
    "### Diaseñe la estructura de datos"
   ]
  }
 ],
 "metadata": {
  "kernelspec": {
   "display_name": "Python 3.6",
   "language": "python",
   "name": "python36"
  },
  "language_info": {
   "codemirror_mode": {
    "name": "ipython",
    "version": 3
   },
   "file_extension": ".py",
   "mimetype": "text/x-python",
   "name": "python",
   "nbconvert_exporter": "python",
   "pygments_lexer": "ipython3",
   "version": "3.6.6"
  }
 },
 "nbformat": 4,
 "nbformat_minor": 2
}
