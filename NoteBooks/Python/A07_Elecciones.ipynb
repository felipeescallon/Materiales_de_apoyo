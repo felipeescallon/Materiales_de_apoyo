{
 "cells": [
  {
   "cell_type": "markdown",
   "metadata": {
    "collapsed": true
   },
   "source": [
    "# Caso de Estudio  \n",
    "Este caso de estudio tiene como objetivo la aplicación de la metodología para desarrollo de programas utilizando python como lenguaje de programación, este ejercicio esta basado en los ejercicios propuestos por el protecto Cupi2 de la Universidad de los Andes Tomado de  [Link][1]\n",
    "\n",
    "[1]: https://cupi2.virtual.uniandes.edu.co/"
   ]
  },
  {
   "cell_type": "markdown",
   "metadata": {},
   "source": [
    "# (1) Especificación del Problema\n",
    "## Elecciones\n",
    "Tomado de [link][1]\n",
    "\n",
    "[1]:https://cupi2.virtual.uniandes.edu.co/nivel-2/ejemplos/elecciones\n",
    "\n",
    "Se desea crear una aplicación que permita manejar información y estadísticas sobre unas elecciones. Esta permite manejar la información de 3 candidatos.\n",
    "De cada candidato se conoce:\n",
    "\n",
    "    - El nombre completo.\n",
    "    - La edad.\n",
    "    - El partido político. \n",
    "    - El costo de la campaña.\n",
    "    - La cantidad de votos obtenidos.\n",
    "    - El porcentaje de votos que tiene el candidato (con respecto al total de votos).\n",
    "\n",
    "Para calcular el costo de la campaña, se tiene en cuenta el medio de comunicación (Televisión, radio o Internet) que influenció a cada votante. De esta manera, para retornar el retorno de la inversión realizada en publicidad, se incrementa el costo de la campaña usando los siguientes valores:\n",
    "\n",
    "    - Voto influenciado por publicidad en Televisión: $1.000\n",
    "    - Voto influenciado por publicidad en Radio: $500\n",
    "    - Voto influenciado por publicidad en Internet: $100\n",
    "\n",
    "Lo anterior quiere decir que, por cada voto que reciba un candidato influenciado por publicidad en televisión, su costo de campaña se incrementara en $1.000, del mismo modo por cada voto influenciado por publicidad en radio, su costo de campaña se incrementara en $500, y finalmente, por cada voto influenciado por publicidad en Internet, su costo de campaña se incrementará en $100.\n",
    "\n",
    "Se desea que la aplicación permita:\n",
    "\n",
    "    1. Visualizar la información de un candidato.\n",
    "    2. Votar por un candidato.\n",
    "    3. Calcular el número total de votos.\n",
    "    4. Calcular el costo promedio por campaña.\n",
    "    5. Visualizar estadísticas por rango de edad y género.\n",
    "    6. Vaciar la urna."
   ]
  },
  {
   "cell_type": "markdown",
   "metadata": {},
   "source": [
    "## (2) Analisis: Lista de Requisitos Funcionales\n",
    "\n",
    "### Escriba la lista de los requisitos funcionales .\n"
   ]
  },
  {
   "cell_type": "markdown",
   "metadata": {},
   "source": [
    " ## (3) Analisis: Datos del Problema\n",
    " ### Haga el análisis de la estructura de datos"
   ]
  },
  {
   "cell_type": "markdown",
   "metadata": {},
   "source": [
    "## (4) Diseño: Estructuras de Datos\n",
    "### Diaseñe la estructura de datos\n"
   ]
  },
  {
   "cell_type": "markdown",
   "metadata": {},
   "source": [
    "## (5) Implementación: Estructuras de Datos\n",
    "### Diaseñe la estructura de datos"
   ]
  }
 ],
 "metadata": {
  "kernelspec": {
   "display_name": "Python 3.6",
   "language": "python",
   "name": "python36"
  },
  "language_info": {
   "codemirror_mode": {
    "name": "ipython",
    "version": 3
   },
   "file_extension": ".py",
   "mimetype": "text/x-python",
   "name": "python",
   "nbconvert_exporter": "python",
   "pygments_lexer": "ipython3",
   "version": "3.6.6"
  }
 },
 "nbformat": 4,
 "nbformat_minor": 2
}
