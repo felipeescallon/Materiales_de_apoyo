{
 "cells": [
  {
   "cell_type": "markdown",
   "metadata": {
    "collapsed": true
   },
   "source": [
    "# Caso de Estudio  \n",
    "Este caso de estudio tiene como objetivo la aplicación de la metodología para desarrollo de programas utilizando python como lenguaje de programación, este ejercicio esta basado en los ejercicios propuestos por el protecto Cupi2 de la Universidad de los Andes Tomado de  [Link][1]\n",
    "\n",
    "[1]: https://cupi2.virtual.uniandes.edu.co/"
   ]
  },
  {
   "cell_type": "markdown",
   "metadata": {},
   "source": [
    "# (1) Especificación del Problema\n",
    "## La Tienda\n",
    "Tomado de [link][1]\n",
    "\n",
    "[1]:https://cupi2.virtual.uniandes.edu.co/nivel-2/casos-de-estudio/la-tienda\n",
    "\n",
    "Un pequeño tendero (De hecho solo tiene 4 productos parda vender) desea un programa que permite manejar el inventario de su pequeña tienda, conocer cuánto dinero hay en caja y tener un control de estadísticas de venta. Para cada uno de los 4 productos se debe manejar la\n",
    "siguiente información:\n",
    "\n",
    "    1. Nombre. No pueden haber dos productos con el mismo nombre.\n",
    "    2. Tipo (puede ser un producto de papelería, de supermercado o de droguería).\n",
    "    3. Cantidad actual del producto en la tienda (número de unidades disponibles para la venta que hay en la bodega).\n",
    "    4. Cantidad mínima para abastecimiento (número de productos por debajo del cual se puede hacer un nuevo pedido al proveedor).\n",
    "    5. El precio base de venta por unidad.\n",
    "    \n",
    "Para calcular el precio final de cada producto, se deben sumar los impuestos que define la ley (IVA). Dichos impuestos dependen del tipo del producto, de la siguiente manera:\n",
    "    - Papelería: 16%\n",
    "    - Supermercado: 4%\n",
    "    - Droguería: 12%.\n",
    "Eso quiere decir que si un lápiz tiene un precio base de \\$10, el precio final será de \\$11.6 considerando que un lápiz es un producto de papelería, y sobre estos se debe pagar el 16% de impuestos.\n",
    "\n",
    "El programa de manejo de esta tienda debe permitir las siguientes operaciones:\n",
    "    1. Vender un producto.\n",
    "    2. Abastecer la tienda con un producto.\n",
    "    3. Cambiar un producto.\n",
    "    4. Calcular estadísticas de ventas la tienda. Dichas estadísticas son: \n",
    "        (a) el producto más vendido, \n",
    "        (b) El producto menos vendido, \n",
    "        (c) la cantidad total de dinero obtenido por las ventas de la tienda, (d) la cantidad de dinero promedio obtenido por unidad \n",
    "        de producto vendida."
   ]
  },
  {
   "cell_type": "markdown",
   "metadata": {},
   "source": [
    "## (2) Analisis: Lista de Requisitos Funcionales\n",
    "\n",
    "### Escriba la lista de los requisitos funcionales .\n"
   ]
  },
  {
   "cell_type": "markdown",
   "metadata": {},
   "source": [
    " ## (3) Analisis: Datos del Problema\n",
    " ### Haga el análisis de la estructura de datos"
   ]
  },
  {
   "cell_type": "markdown",
   "metadata": {},
   "source": [
    "## (4) Diseño: Estructuras de Datos\n",
    "### Diaseñe la estructura de datos\n"
   ]
  },
  {
   "cell_type": "markdown",
   "metadata": {},
   "source": [
    "## (5) Implementación: Estructuras de Datos\n",
    "### Diaseñe la estructura de datos"
   ]
  }
 ],
 "metadata": {
  "kernelspec": {
   "display_name": "Python 3.6",
   "language": "python",
   "name": "python36"
  },
  "language_info": {
   "codemirror_mode": {
    "name": "ipython",
    "version": 3
   },
   "file_extension": ".py",
   "mimetype": "text/x-python",
   "name": "python",
   "nbconvert_exporter": "python",
   "pygments_lexer": "ipython3",
   "version": "3.6.6"
  }
 },
 "nbformat": 4,
 "nbformat_minor": 2
}
