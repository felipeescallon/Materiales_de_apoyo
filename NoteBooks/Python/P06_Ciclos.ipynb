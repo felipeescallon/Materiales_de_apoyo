{
 "cells": [
  {
   "cell_type": "markdown",
   "metadata": {
    "collapsed": true
   },
   "source": [
    "# Ciclos\n",
    "Otra estructura muy importante para el control de flujo de los programas son : **Los ciclos**. Estos nos permitirán repetir un grupo de instrucciones.\n",
    "\n",
    "mas sobre ciclos\n",
    "\n",
    "- [Ciclo Para][1]\n",
    "- [Ciclo Mientras Que][2]\n",
    "\n",
    "\n",
    "[1]:https://es.wikipedia.org/wiki/Bucle_for\n",
    "[2]:https://es.wikipedia.org/wiki/Bucle_while\n",
    "\n",
    "\n",
    "## El ciclo while()\n",
    "Este ciclo ejecuta un conjunto de instrucciones `(bloque de código)` mientras que una condición lógica es evaluada como verdadera **True**.\n",
    "\n",
    "```python\n",
    "while (condicion)\n",
    "    bloque de código\n",
    "```\n",
    "\n"
   ]
  },
  {
   "cell_type": "markdown",
   "metadata": {},
   "source": [
    "<font> <b>Conceptos</b></font>\n",
    "\n",
    "## `while True:` El ciclo infinito\n",
    "\n",
    "Si en un progama se digita una instrucción **`while True:`** esta continuará \"por siempre\"... o hasta que el ciclo sea interrumpido con la ionstrucción **break**. Esta instrucción ubicada en el bloque de código del `while()` causa que se termine el ciclo.\n",
    "\n",
    "\n",
    "<font> <b>Examples</b></font>"
   ]
  },
  {
   "cell_type": "code",
   "execution_count": 8,
   "metadata": {},
   "outputs": [
    {
     "name": "stdout",
     "output_type": "stream",
     "text": [
      "write forever, unless there is a \"break\"\n"
     ]
    }
   ],
   "source": [
    "# Analice y luego ejecute este código\n",
    "\n",
    "while True:\n",
    "    print('write forever, unless there is a \"break\"')\n",
    "    \n",
    "    #para interrumpirlo presione el icono de terminart [ ] al lado de Run.\n"
   ]
  },
  {
   "cell_type": "code",
   "execution_count": null,
   "metadata": {},
   "outputs": [],
   "source": [
    "# Analice y luego ejecute este código\n",
    "\n",
    "while True:\n",
    "    print('write forever, unless there is a \"break\"')\n",
    "    break"
   ]
  },
  {
   "cell_type": "code",
   "execution_count": 6,
   "metadata": {},
   "outputs": [
    {
     "name": "stdout",
     "output_type": "stream",
     "text": [
      "adivine un numero entre 1 to 5: 5\n",
      "Yes 5 Es correcto!\n",
      "\n"
     ]
    }
   ],
   "source": [
    "# Analice y luego ejecute este código (adivinar un numerop)\n",
    "numero_adivinado = \"0\"\n",
    "numero_secreto = \"5\"\n",
    "\n",
    "while True:\n",
    "    numero_adivinado = input(\"adivine un numero entre 1 to 5: \")\n",
    "    if numero_adivinado == numero_secreto:\n",
    "        print(\"Yes\", numero_adivinado,\"Es correcto!\\n\")\n",
    "        break\n",
    "    else:\n",
    "        print(numero_adivinado,\"No es correcto\\n\")"
   ]
  },
  {
   "cell_type": "markdown",
   "metadata": {},
   "source": [
    "<font> <b>Conceptos</b></font>\n",
    "## Incrementando variables"
   ]
  },
  {
   "cell_type": "code",
   "execution_count": null,
   "metadata": {},
   "outputs": [],
   "source": [
    "# [ ] analice y ejecute el siguiente código\n",
    "votes = 3\n",
    "print(votes)\n",
    "\n",
    "votes = votes + 1 #Incremento de la variable votes en 1 (notación infija)\n",
    "print(votes)\n",
    "\n",
    "votes += 2  #Incremento de la variable votes en 2 (notación prefija)\n",
    "print(votes)"
   ]
  },
  {
   "cell_type": "code",
   "execution_count": 9,
   "metadata": {},
   "outputs": [
    {
     "name": "stdout",
     "output_type": "stream",
     "text": [
      "conteo esta en: 0\n",
      "conteo esta en: 1\n",
      "conteo esta en: 2\n",
      "conteo esta en: 3\n",
      "conteo esta en: 4\n"
     ]
    }
   ],
   "source": [
    "# [ ] analice y ejecute el siguiente código\n",
    "contador = 0\n",
    "while True:\n",
    "    print(\"conteo esta en:\",contador)\n",
    "    contador = contador + 1\n",
    "\n",
    "    if contador > 4:\n",
    "        break"
   ]
  },
  {
   "cell_type": "markdown",
   "metadata": {},
   "source": [
    "Aunque los ciclos infinitos son útiles, en muchas ocasiones los ciclos se deben repetir un numero de veces que se conoce, es decir hasta que se alcance un numero de repeticiones dado. Para estos casos es muy útil el concepto de **Contador**, que es una variable que se incrementa cada vez que se realiza un ciclo.  "
   ]
  },
  {
   "cell_type": "code",
   "execution_count": 11,
   "metadata": {},
   "outputs": [
    {
     "name": "stdout",
     "output_type": "stream",
     "text": [
      "conteo esta en: 0\n",
      "conteo esta en: 1\n",
      "conteo esta en: 2\n",
      "conteo esta en: 3\n",
      "conteo esta en: 4\n"
     ]
    }
   ],
   "source": [
    "# [ ] analice y ejecute el siguiente código\n",
    "contador = 0\n",
    "while contador <=4: \n",
    "    #Analice porque esyta condición es contraria a la del \n",
    "    # if del ciclo anterior\n",
    "    print(\"conteo esta en:\",contador)\n",
    "    contador = contador + 1\n"
   ]
  },
  {
   "cell_type": "code",
   "execution_count": null,
   "metadata": {},
   "outputs": [],
   "source": [
    "# [ ] analice y ejecute el siguiente programa\n",
    "#inicializacion de las variables\n",
    "seat_count = 0\n",
    "soft_seats = 0\n",
    "hard_seats = 0\n",
    "num_seats = 4\n",
    "\n",
    "while True:\n",
    "    seat_type = input('enter seat type of \"hard\",\"soft\" or \"exit\" (to finish): ')\n",
    "    \n",
    "    if seat_type.lower().startswith(\"e\"):\n",
    "        print()\n",
    "        break\n",
    "    elif seat_type.lower() == \"hard\":\n",
    "        hard_seats += 1\n",
    "    elif seat_type.lower() == \"soft\":\n",
    "        soft_seats += 1\n",
    "    else:\n",
    "        print(\"invalid entry: counted as hard\")\n",
    "        hard_seats += 1  \n",
    "    seat_count += 1\n",
    "    if seat_count >= num_seats:\n",
    "        print(\"\\nseats are full\")\n",
    "        break\n",
    "        \n",
    "print(seat_count,\"Seats Total: \",hard_seats,\"hard and\",soft_seats,\"soft\" )"
   ]
  },
  {
   "cell_type": "markdown",
   "metadata": {},
   "source": [
    "<font> <b>Ejercicio</b></font>\n",
    "\n",
    "Modifique el programa de la celda anterior para que no utilice un ciclo infinito sino un contador"
   ]
  },
  {
   "cell_type": "code",
   "execution_count": null,
   "metadata": {},
   "outputs": [],
   "source": [
    "#Escriba el programa aqui"
   ]
  },
  {
   "cell_type": "markdown",
   "metadata": {},
   "source": [
    "<font> <b>Ejercicio</b></font>\n",
    "\n",
    "Haga un programa que permnita\n",
    "- Ingresar las tallas de camisas (S, M, L)\n",
    "- Cuente cuantas se ingresan por cada talla\n",
    "- ingresar \"exit\" para terminar (sin importar mayusculas y minusculas)\n",
    "- escribir el total de cada talla\n"
   ]
  },
  {
   "cell_type": "code",
   "execution_count": null,
   "metadata": {},
   "outputs": [],
   "source": [
    "#Escriba el programa aqui sin ciclo infinito"
   ]
  },
  {
   "cell_type": "markdown",
   "metadata": {},
   "source": [
    "<font> <b>Ejercicio</b></font>\n",
    "\n",
    "Modifique el programa de la celda anterior para que lea los costos de cada tipo de camisa y al final muestre el total de costos por tipo de camisa"
   ]
  },
  {
   "cell_type": "code",
   "execution_count": null,
   "metadata": {},
   "outputs": [],
   "source": [
    "#Escriba el programa aqui sin ciclo infinito"
   ]
  },
  {
   "cell_type": "markdown",
   "metadata": {},
   "source": [
    "<font> <b>Ejercicio</b></font>\n",
    "\n",
    "Escriba un programa que lea digitos (i.e., 0..9) en un ciclo y que termine cuando se digite un caracter que no sea un digito."
   ]
  },
  {
   "cell_type": "code",
   "execution_count": null,
   "metadata": {},
   "outputs": [],
   "source": [
    "#Escriba el programa aqui"
   ]
  },
  {
   "cell_type": "markdown",
   "metadata": {},
   "source": [
    "<font> <b>Ejercicio</b></font>\n",
    "\n",
    "Modifique el programa anterior para que al terminar retorne el numero entero (en una sola variable) que se forma con los digitos. \n",
    "\n",
    "**Ejemplo**\n",
    "\n",
    "si se digitan '4' '5' '8' '7'\n",
    "\n",
    "debe retornar 4587 `(almacenado en una variable entera)`"
   ]
  },
  {
   "cell_type": "code",
   "execution_count": null,
   "metadata": {},
   "outputs": [],
   "source": [
    "#Escriba el programa aqui"
   ]
  }
 ],
 "metadata": {
  "kernelspec": {
   "display_name": "Python 3.6",
   "language": "python",
   "name": "python36"
  },
  "language_info": {
   "codemirror_mode": {
    "name": "ipython",
    "version": 3
   },
   "file_extension": ".py",
   "mimetype": "text/x-python",
   "name": "python",
   "nbconvert_exporter": "python",
   "pygments_lexer": "ipython3",
   "version": "3.6.6"
  }
 },
 "nbformat": 4,
 "nbformat_minor": 2
}
